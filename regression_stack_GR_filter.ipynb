{
 "cells": [
  {
   "cell_type": "markdown",
   "id": "ed3242df",
   "metadata": {},
   "source": [
    "### Bibliotecas"
   ]
  },
  {
   "cell_type": "code",
   "execution_count": 1,
   "id": "d7bf37a3",
   "metadata": {},
   "outputs": [],
   "source": [
    "import seaborn as sns\n",
    "import matplotlib.pyplot as plt\n",
    "import pandas as pd\n",
    "import numpy as np\n",
    "from datetime import datetime\n",
    "import os\n",
    "import pickle\n",
    "\n",
    "from sklearn.preprocessing import MinMaxScaler, StandardScaler, PolynomialFeatures\n",
    "from sklearn.model_selection import RepeatedKFold, RandomizedSearchCV\n",
    "from sklearn.metrics import r2_score, mean_absolute_error\n",
    "\n",
    "#Modelos\n",
    "from sklearn.linear_model import LinearRegression\n",
    "from sklearn.pipeline import Pipeline\n",
    "from sklearn.svm import SVR\n",
    "from sklearn.neighbors import KNeighborsRegressor\n",
    "from sklearn.svm import SVR\n",
    "from sklearn.neighbors import KNeighborsRegressor\n",
    "from sklearn.neural_network import MLPRegressor\n",
    "from sklearn.tree import DecisionTreeRegressor\n",
    "from sklearn.ensemble import RandomForestRegressor, GradientBoostingRegressor, ExtraTreesRegressor, AdaBoostRegressor, BaggingRegressor\n",
    "from sklearn.ensemble import StackingRegressor, VotingRegressor\n",
    "from sklearn.neural_network import MLPRegressor\n",
    "import lightgbm as lgb\n",
    "import xgboost as xgb\n",
    "\n",
    "from scipy import stats\n",
    "import itertools\n",
    "\n",
    "from copy import deepcopy\n",
    "\n",
    "import warnings\n",
    "warnings.simplefilter(action='ignore', category=FutureWarning)\n",
    "warnings.simplefilter(action='ignore', category=UserWarning)"
   ]
  },
  {
   "cell_type": "markdown",
   "id": "ffa952c9",
   "metadata": {},
   "source": [
    "### Lendo Dados"
   ]
  },
  {
   "cell_type": "code",
   "execution_count": 4,
   "id": "5ac867d7",
   "metadata": {},
   "outputs": [
    {
     "data": {
      "text/plain": [
       "(23733, 10)"
      ]
     },
     "execution_count": 4,
     "metadata": {},
     "output_type": "execute_result"
    }
   ],
   "source": [
    "df = pd.read_csv('./Data/volve_preproc.csv')\n",
    "df.shape"
   ]
  },
  {
   "cell_type": "markdown",
   "id": "4714c20c",
   "metadata": {},
   "source": [
    "#### Filtering Data"
   ]
  },
  {
   "cell_type": "code",
   "execution_count": 5,
   "id": "defc297a",
   "metadata": {},
   "outputs": [
    {
     "data": {
      "text/plain": [
       "(7911, 10)"
      ]
     },
     "execution_count": 5,
     "metadata": {},
     "output_type": "execute_result"
    }
   ],
   "source": [
    "n=3\n",
    "df2 = df[::n]\n",
    "df2.shape"
   ]
  },
  {
   "cell_type": "markdown",
   "id": "1c15880a",
   "metadata": {},
   "source": [
    "```\n",
    "Importante: dropando DT para treinar com mais dados\n",
    "```"
   ]
  },
  {
   "cell_type": "code",
   "execution_count": 6,
   "id": "e5bc0707",
   "metadata": {},
   "outputs": [
    {
     "data": {
      "text/plain": [
       "(7911, 9)"
      ]
     },
     "execution_count": 6,
     "metadata": {},
     "output_type": "execute_result"
    }
   ],
   "source": [
    "df2 = df2.drop(['DT'], axis=1)\n",
    "df2.shape"
   ]
  },
  {
   "cell_type": "code",
   "execution_count": 7,
   "id": "d8f2cb66",
   "metadata": {},
   "outputs": [
    {
     "data": {
      "text/plain": [
       "(7882, 9)"
      ]
     },
     "execution_count": 7,
     "metadata": {},
     "output_type": "execute_result"
    }
   ],
   "source": [
    "df_filt = df2.dropna()\n",
    "df_filt.shape"
   ]
  },
  {
   "cell_type": "code",
   "execution_count": 8,
   "id": "380f0849",
   "metadata": {},
   "outputs": [
    {
     "data": {
      "text/html": [
       "<div>\n",
       "<style scoped>\n",
       "    .dataframe tbody tr th:only-of-type {\n",
       "        vertical-align: middle;\n",
       "    }\n",
       "\n",
       "    .dataframe tbody tr th {\n",
       "        vertical-align: top;\n",
       "    }\n",
       "\n",
       "    .dataframe thead th {\n",
       "        text-align: right;\n",
       "    }\n",
       "</style>\n",
       "<table border=\"1\" class=\"dataframe\">\n",
       "  <thead>\n",
       "    <tr style=\"text-align: right;\">\n",
       "      <th></th>\n",
       "      <th>MD</th>\n",
       "      <th>CALI</th>\n",
       "      <th>DT</th>\n",
       "      <th>GR</th>\n",
       "      <th>NPHI</th>\n",
       "      <th>RHOB</th>\n",
       "      <th>PHIF</th>\n",
       "      <th>SW</th>\n",
       "      <th>RACEHM_LOG</th>\n",
       "    </tr>\n",
       "    <tr>\n",
       "      <th>wellName</th>\n",
       "      <th></th>\n",
       "      <th></th>\n",
       "      <th></th>\n",
       "      <th></th>\n",
       "      <th></th>\n",
       "      <th></th>\n",
       "      <th></th>\n",
       "      <th></th>\n",
       "      <th></th>\n",
       "    </tr>\n",
       "  </thead>\n",
       "  <tbody>\n",
       "    <tr>\n",
       "      <th>15/9-F-1 A</th>\n",
       "      <td>2099</td>\n",
       "      <td>2099</td>\n",
       "      <td>2099</td>\n",
       "      <td>2099</td>\n",
       "      <td>2099</td>\n",
       "      <td>2099</td>\n",
       "      <td>2099</td>\n",
       "      <td>2099</td>\n",
       "      <td>2099</td>\n",
       "    </tr>\n",
       "    <tr>\n",
       "      <th>15/9-F-1 B</th>\n",
       "      <td>1903</td>\n",
       "      <td>1903</td>\n",
       "      <td>1903</td>\n",
       "      <td>1903</td>\n",
       "      <td>1903</td>\n",
       "      <td>1903</td>\n",
       "      <td>1903</td>\n",
       "      <td>1903</td>\n",
       "      <td>1903</td>\n",
       "    </tr>\n",
       "    <tr>\n",
       "      <th>15/9-F-1 C</th>\n",
       "      <td>7631</td>\n",
       "      <td>7631</td>\n",
       "      <td>0</td>\n",
       "      <td>7631</td>\n",
       "      <td>7631</td>\n",
       "      <td>7631</td>\n",
       "      <td>7630</td>\n",
       "      <td>7630</td>\n",
       "      <td>7631</td>\n",
       "    </tr>\n",
       "    <tr>\n",
       "      <th>15/9-F-11 A</th>\n",
       "      <td>1402</td>\n",
       "      <td>1402</td>\n",
       "      <td>1402</td>\n",
       "      <td>1402</td>\n",
       "      <td>1402</td>\n",
       "      <td>1402</td>\n",
       "      <td>1321</td>\n",
       "      <td>1321</td>\n",
       "      <td>1402</td>\n",
       "    </tr>\n",
       "    <tr>\n",
       "      <th>15/9-F-11 B</th>\n",
       "      <td>10698</td>\n",
       "      <td>10698</td>\n",
       "      <td>0</td>\n",
       "      <td>10698</td>\n",
       "      <td>10698</td>\n",
       "      <td>10698</td>\n",
       "      <td>10698</td>\n",
       "      <td>10698</td>\n",
       "      <td>10698</td>\n",
       "    </tr>\n",
       "  </tbody>\n",
       "</table>\n",
       "</div>"
      ],
      "text/plain": [
       "                MD   CALI    DT     GR   NPHI   RHOB   PHIF     SW  RACEHM_LOG\n",
       "wellName                                                                      \n",
       "15/9-F-1 A    2099   2099  2099   2099   2099   2099   2099   2099        2099\n",
       "15/9-F-1 B    1903   1903  1903   1903   1903   1903   1903   1903        1903\n",
       "15/9-F-1 C    7631   7631     0   7631   7631   7631   7630   7630        7631\n",
       "15/9-F-11 A   1402   1402  1402   1402   1402   1402   1321   1321        1402\n",
       "15/9-F-11 B  10698  10698     0  10698  10698  10698  10698  10698       10698"
      ]
     },
     "execution_count": 8,
     "metadata": {},
     "output_type": "execute_result"
    }
   ],
   "source": [
    "df.groupby('wellName').count()"
   ]
  },
  {
   "cell_type": "code",
   "execution_count": 9,
   "id": "7a2af712",
   "metadata": {},
   "outputs": [
    {
     "data": {
      "text/html": [
       "<div>\n",
       "<style scoped>\n",
       "    .dataframe tbody tr th:only-of-type {\n",
       "        vertical-align: middle;\n",
       "    }\n",
       "\n",
       "    .dataframe tbody tr th {\n",
       "        vertical-align: top;\n",
       "    }\n",
       "\n",
       "    .dataframe thead th {\n",
       "        text-align: right;\n",
       "    }\n",
       "</style>\n",
       "<table border=\"1\" class=\"dataframe\">\n",
       "  <thead>\n",
       "    <tr style=\"text-align: right;\">\n",
       "      <th></th>\n",
       "      <th>MD</th>\n",
       "      <th>CALI</th>\n",
       "      <th>GR</th>\n",
       "      <th>NPHI</th>\n",
       "      <th>RHOB</th>\n",
       "      <th>PHIF</th>\n",
       "      <th>SW</th>\n",
       "      <th>RACEHM_LOG</th>\n",
       "    </tr>\n",
       "    <tr>\n",
       "      <th>wellName</th>\n",
       "      <th></th>\n",
       "      <th></th>\n",
       "      <th></th>\n",
       "      <th></th>\n",
       "      <th></th>\n",
       "      <th></th>\n",
       "      <th></th>\n",
       "      <th></th>\n",
       "    </tr>\n",
       "  </thead>\n",
       "  <tbody>\n",
       "    <tr>\n",
       "      <th>15/9-F-1 A</th>\n",
       "      <td>700</td>\n",
       "      <td>700</td>\n",
       "      <td>700</td>\n",
       "      <td>700</td>\n",
       "      <td>700</td>\n",
       "      <td>700</td>\n",
       "      <td>700</td>\n",
       "      <td>700</td>\n",
       "    </tr>\n",
       "    <tr>\n",
       "      <th>15/9-F-1 B</th>\n",
       "      <td>634</td>\n",
       "      <td>634</td>\n",
       "      <td>634</td>\n",
       "      <td>634</td>\n",
       "      <td>634</td>\n",
       "      <td>634</td>\n",
       "      <td>634</td>\n",
       "      <td>634</td>\n",
       "    </tr>\n",
       "    <tr>\n",
       "      <th>15/9-F-1 C</th>\n",
       "      <td>2544</td>\n",
       "      <td>2544</td>\n",
       "      <td>2544</td>\n",
       "      <td>2544</td>\n",
       "      <td>2544</td>\n",
       "      <td>2543</td>\n",
       "      <td>2543</td>\n",
       "      <td>2544</td>\n",
       "    </tr>\n",
       "    <tr>\n",
       "      <th>15/9-F-11 A</th>\n",
       "      <td>467</td>\n",
       "      <td>467</td>\n",
       "      <td>467</td>\n",
       "      <td>467</td>\n",
       "      <td>467</td>\n",
       "      <td>439</td>\n",
       "      <td>439</td>\n",
       "      <td>467</td>\n",
       "    </tr>\n",
       "    <tr>\n",
       "      <th>15/9-F-11 B</th>\n",
       "      <td>3566</td>\n",
       "      <td>3566</td>\n",
       "      <td>3566</td>\n",
       "      <td>3566</td>\n",
       "      <td>3566</td>\n",
       "      <td>3566</td>\n",
       "      <td>3566</td>\n",
       "      <td>3566</td>\n",
       "    </tr>\n",
       "  </tbody>\n",
       "</table>\n",
       "</div>"
      ],
      "text/plain": [
       "               MD  CALI    GR  NPHI  RHOB  PHIF    SW  RACEHM_LOG\n",
       "wellName                                                         \n",
       "15/9-F-1 A    700   700   700   700   700   700   700         700\n",
       "15/9-F-1 B    634   634   634   634   634   634   634         634\n",
       "15/9-F-1 C   2544  2544  2544  2544  2544  2543  2543        2544\n",
       "15/9-F-11 A   467   467   467   467   467   439   439         467\n",
       "15/9-F-11 B  3566  3566  3566  3566  3566  3566  3566        3566"
      ]
     },
     "execution_count": 9,
     "metadata": {},
     "output_type": "execute_result"
    }
   ],
   "source": [
    "df2.groupby('wellName').count()"
   ]
  },
  {
   "cell_type": "code",
   "execution_count": 10,
   "id": "2719ffe8",
   "metadata": {},
   "outputs": [
    {
     "data": {
      "text/html": [
       "<div>\n",
       "<style scoped>\n",
       "    .dataframe tbody tr th:only-of-type {\n",
       "        vertical-align: middle;\n",
       "    }\n",
       "\n",
       "    .dataframe tbody tr th {\n",
       "        vertical-align: top;\n",
       "    }\n",
       "\n",
       "    .dataframe thead th {\n",
       "        text-align: right;\n",
       "    }\n",
       "</style>\n",
       "<table border=\"1\" class=\"dataframe\">\n",
       "  <thead>\n",
       "    <tr style=\"text-align: right;\">\n",
       "      <th></th>\n",
       "      <th>MD</th>\n",
       "      <th>CALI</th>\n",
       "      <th>GR</th>\n",
       "      <th>NPHI</th>\n",
       "      <th>RHOB</th>\n",
       "      <th>PHIF</th>\n",
       "      <th>SW</th>\n",
       "      <th>RACEHM_LOG</th>\n",
       "    </tr>\n",
       "    <tr>\n",
       "      <th>wellName</th>\n",
       "      <th></th>\n",
       "      <th></th>\n",
       "      <th></th>\n",
       "      <th></th>\n",
       "      <th></th>\n",
       "      <th></th>\n",
       "      <th></th>\n",
       "      <th></th>\n",
       "    </tr>\n",
       "  </thead>\n",
       "  <tbody>\n",
       "    <tr>\n",
       "      <th>15/9-F-1 A</th>\n",
       "      <td>700</td>\n",
       "      <td>700</td>\n",
       "      <td>700</td>\n",
       "      <td>700</td>\n",
       "      <td>700</td>\n",
       "      <td>700</td>\n",
       "      <td>700</td>\n",
       "      <td>700</td>\n",
       "    </tr>\n",
       "    <tr>\n",
       "      <th>15/9-F-1 B</th>\n",
       "      <td>634</td>\n",
       "      <td>634</td>\n",
       "      <td>634</td>\n",
       "      <td>634</td>\n",
       "      <td>634</td>\n",
       "      <td>634</td>\n",
       "      <td>634</td>\n",
       "      <td>634</td>\n",
       "    </tr>\n",
       "    <tr>\n",
       "      <th>15/9-F-1 C</th>\n",
       "      <td>2543</td>\n",
       "      <td>2543</td>\n",
       "      <td>2543</td>\n",
       "      <td>2543</td>\n",
       "      <td>2543</td>\n",
       "      <td>2543</td>\n",
       "      <td>2543</td>\n",
       "      <td>2543</td>\n",
       "    </tr>\n",
       "    <tr>\n",
       "      <th>15/9-F-11 A</th>\n",
       "      <td>439</td>\n",
       "      <td>439</td>\n",
       "      <td>439</td>\n",
       "      <td>439</td>\n",
       "      <td>439</td>\n",
       "      <td>439</td>\n",
       "      <td>439</td>\n",
       "      <td>439</td>\n",
       "    </tr>\n",
       "    <tr>\n",
       "      <th>15/9-F-11 B</th>\n",
       "      <td>3566</td>\n",
       "      <td>3566</td>\n",
       "      <td>3566</td>\n",
       "      <td>3566</td>\n",
       "      <td>3566</td>\n",
       "      <td>3566</td>\n",
       "      <td>3566</td>\n",
       "      <td>3566</td>\n",
       "    </tr>\n",
       "  </tbody>\n",
       "</table>\n",
       "</div>"
      ],
      "text/plain": [
       "               MD  CALI    GR  NPHI  RHOB  PHIF    SW  RACEHM_LOG\n",
       "wellName                                                         \n",
       "15/9-F-1 A    700   700   700   700   700   700   700         700\n",
       "15/9-F-1 B    634   634   634   634   634   634   634         634\n",
       "15/9-F-1 C   2543  2543  2543  2543  2543  2543  2543        2543\n",
       "15/9-F-11 A   439   439   439   439   439   439   439         439\n",
       "15/9-F-11 B  3566  3566  3566  3566  3566  3566  3566        3566"
      ]
     },
     "execution_count": 10,
     "metadata": {},
     "output_type": "execute_result"
    }
   ],
   "source": [
    "df_filt.groupby('wellName').count()"
   ]
  },
  {
   "cell_type": "markdown",
   "id": "c5967b85",
   "metadata": {},
   "source": [
    "### Treinando modelo de ML para prever GR"
   ]
  },
  {
   "cell_type": "markdown",
   "id": "1760adca",
   "metadata": {},
   "source": [
    "#### Definindo a parcela de treino e de teste"
   ]
  },
  {
   "cell_type": "code",
   "execution_count": 11,
   "id": "8fd184c5",
   "metadata": {},
   "outputs": [],
   "source": [
    "training_wells = ['15/9-F-1 A', '15/9-F-1 B', '15/9-F-11 B', '15/9-F-11 A']\n",
    "test_wells = ['15/9-F-1 C']\n",
    "nodata_wells = ['15/9-F-11 B', '15/9-F-1 C'] #poços sem a informação de DT"
   ]
  },
  {
   "cell_type": "code",
   "execution_count": 12,
   "id": "62137b19",
   "metadata": {},
   "outputs": [],
   "source": [
    "train_df = df_filt[df_filt['wellName'].isin(training_wells)]\n",
    "test_df = df_filt[df_filt['wellName'].isin(test_wells)]\n",
    "nodata_df = df_filt[df_filt['wellName'].isin(nodata_wells)]"
   ]
  },
  {
   "cell_type": "markdown",
   "id": "8e7b9994",
   "metadata": {},
   "source": [
    "#### Selecionando variáveis de entrada e saída"
   ]
  },
  {
   "cell_type": "code",
   "execution_count": 13,
   "id": "d3a3976f",
   "metadata": {},
   "outputs": [],
   "source": [
    "inputs = [\n",
    "    'CALI',\n",
    "    # 'DT',\n",
    "    # 'GR',\n",
    "    'NPHI',\n",
    "    'RHOB',\n",
    "    'PHIF',\n",
    "    'SW',\n",
    "    'RACEHM_LOG'\n",
    "    ]\n",
    "output = ['GR']"
   ]
  },
  {
   "cell_type": "code",
   "execution_count": 14,
   "id": "785c772b",
   "metadata": {},
   "outputs": [
    {
     "data": {
      "text/plain": [
       "(Index(['CALI', 'NPHI', 'RHOB', 'PHIF', 'SW', 'RACEHM_LOG'], dtype='object'),\n",
       " Index(['GR'], dtype='object'))"
      ]
     },
     "execution_count": 14,
     "metadata": {},
     "output_type": "execute_result"
    }
   ],
   "source": [
    "X_tr = train_df[inputs]\n",
    "y_tr = train_df[output]\n",
    "X_tr.columns, y_tr.columns"
   ]
  },
  {
   "cell_type": "code",
   "execution_count": 15,
   "id": "be09d11d",
   "metadata": {},
   "outputs": [
    {
     "data": {
      "text/plain": [
       "(Index(['CALI', 'NPHI', 'RHOB', 'PHIF', 'SW', 'RACEHM_LOG'], dtype='object'),\n",
       " Index(['GR'], dtype='object'))"
      ]
     },
     "execution_count": 15,
     "metadata": {},
     "output_type": "execute_result"
    }
   ],
   "source": [
    "X_te = test_df[inputs]\n",
    "y_te = test_df[output]\n",
    "X_te.columns, y_te.columns"
   ]
  },
  {
   "cell_type": "code",
   "execution_count": 16,
   "id": "2e438a65",
   "metadata": {},
   "outputs": [
    {
     "data": {
      "text/plain": [
       "((5339, 6), (5339, 1), (2543, 6), (2543, 1))"
      ]
     },
     "execution_count": 16,
     "metadata": {},
     "output_type": "execute_result"
    }
   ],
   "source": [
    "X_tr.shape,y_tr.shape,X_te.shape,y_te.shape"
   ]
  },
  {
   "cell_type": "code",
   "execution_count": 17,
   "id": "309de508",
   "metadata": {},
   "outputs": [],
   "source": [
    "X_tr = X_tr.values\n",
    "X_te = X_te.values\n",
    "y_tr = y_tr.values\n",
    "y_te = y_te.values"
   ]
  },
  {
   "cell_type": "markdown",
   "id": "981d0439",
   "metadata": {},
   "source": [
    "#### Normalizando dados MinMax"
   ]
  },
  {
   "cell_type": "code",
   "execution_count": 18,
   "id": "9ce9c785",
   "metadata": {},
   "outputs": [],
   "source": [
    "Xtr_scaler = StandardScaler()\n",
    "ytr_scaler = StandardScaler()\n",
    "Xte_scaler = StandardScaler()\n",
    "yte_scaler = StandardScaler()\n",
    "X_tr = Xtr_scaler.fit_transform(X_tr)\n",
    "X_te = Xte_scaler.fit_transform(X_te)\n",
    "y_tr = ytr_scaler.fit_transform(y_tr)\n",
    "y_te = yte_scaler.fit_transform(y_te)"
   ]
  },
  {
   "cell_type": "markdown",
   "id": "0bd826c8",
   "metadata": {},
   "source": [
    "Random State"
   ]
  },
  {
   "cell_type": "code",
   "execution_count": 19,
   "id": "eede0cdb",
   "metadata": {},
   "outputs": [],
   "source": [
    "rs=48"
   ]
  },
  {
   "cell_type": "markdown",
   "id": "7aba33b9",
   "metadata": {},
   "source": [
    "#### Declarando os Modelos ML"
   ]
  },
  {
   "cell_type": "code",
   "execution_count": 20,
   "id": "ae7196b8",
   "metadata": {},
   "outputs": [],
   "source": [
    "models_ml = [\n",
    "    ('Linear'   ,'LinReg'              ,      LinearRegression(copy_X=True)), #ARX Equivalet\n",
    "    ('NonLinear','PolyReg'             ,      Pipeline([('Poly', PolynomialFeatures(degree=2)), ('Reg', LinearRegression(copy_X=True))])), #NARX Equivale)t\n",
    "    ('NonLinear','SVM'                 ,      SVR(max_iter=-1)),\n",
    "    ('NonLinear','KNN'                 ,      KNeighborsRegressor()),\n",
    "    ('NonLinear','MLP'                 ,      MLPRegressor(random_state=rs)),\n",
    "    ('Ensembles','DecisionTree'        ,      DecisionTreeRegressor(random_state=rs)),\n",
    "    ('Ensembles','RandomForest'        ,      RandomForestRegressor(random_state=rs)),\n",
    "    ('Ensembles','GradientBoosting'    ,      GradientBoostingRegressor(random_state=rs)),\n",
    "    ('Ensembles','ExtraTrees'          ,      ExtraTreesRegressor(random_state=rs)),\n",
    "    ('Ensembles','AdaBoostRegressor'   ,      AdaBoostRegressor(random_state=rs)),\n",
    "    ('Ensembles','BaggingRegressor'    ,      BaggingRegressor(random_state=rs)),\n",
    "    # ('Ensembles','LightGBM'            ,      lgb.LGBMRegressor()),\n",
    "    ('Ensembles','XGBoost'             ,      xgb.XGBRegressor()),\n",
    "]\n"
   ]
  },
  {
   "cell_type": "code",
   "execution_count": 21,
   "id": "6e80359c",
   "metadata": {},
   "outputs": [
    {
     "name": "stdout",
     "output_type": "stream",
     "text": [
      "0 LinReg\n",
      "1 PolyReg\n",
      "2 SVM\n",
      "3 KNN\n",
      "4 MLP\n",
      "5 DecisionTree\n",
      "6 RandomForest\n",
      "7 GradientBoosting\n",
      "8 ExtraTrees\n",
      "9 AdaBoostRegressor\n",
      "10 BaggingRegressor\n",
      "11 XGBoost\n"
     ]
    }
   ],
   "source": [
    "for i, m in enumerate(models_ml):\n",
    "    print (i, m[1])"
   ]
  },
  {
   "cell_type": "markdown",
   "id": "ecc602e4",
   "metadata": {},
   "source": [
    "#### Parâmetros (RandomSearchCV)"
   ]
  },
  {
   "cell_type": "code",
   "execution_count": null,
   "id": "f86bf48b",
   "metadata": {},
   "outputs": [],
   "source": [
    "parameters = [\n",
    "    { # LinReg 0\n",
    "        #'PCA__n_components'           : stats.uniform(loc=0.7, scale=0.3),\n",
    "        'positive'                     : [True, False],\n",
    "        #'expansor'                    : [None, PolynomialFeatures(degree=2)],\n",
    "        #'nX'                          : stats.randint(2,10),\n",
    "        #'ny'                          : stats.randint(2,10),\n",
    "    },\n",
    "    { # PolyReg NARX 1\n",
    "        #'PCA__n_components'           : stats.uniform(loc=0.7, scale=0.3),\n",
    "        'Reg__positive'                : [True, False],\n",
    "        #'Poly__degree'                : [2, 3, 4, 5],\n",
    "        #'expansor'                    : [None, PolynomialFeatures(degree=2)],\n",
    "        #'nX'                          : stats.randint(2,10),\n",
    "        #'ny'                          : stats.randint(2,10),\n",
    "    },\n",
    "    { # SVM 2\n",
    "        #'PCA__n_components'          : stats.uniform(loc=0.7, scale=0.3),\n",
    "        'C'                     : stats.loguniform(1e-3, 1e3),\n",
    "        'kernel'                : ['poly', 'rbf', 'sigmoid'],\n",
    "        'degree'                : stats.randint(2,6),\n",
    "        'gamma'                 : stats.loguniform(1e-4, 1e0),\n",
    "        #'expansor'                    : [None, PolynomialFeatures(degree=2)],\n",
    "        #'nX'                          : stats.randint(2,10),\n",
    "        #'ny'                          : stats.randint(2,10),\n",
    "    },\n",
    "    { # KNN 3\n",
    "        #'PCA__n_components'          : stats.uniform(loc=0.7, scale=0.3),\n",
    "        'n_neighbors'           : stats.randint(1,100),\n",
    "        'weights'               : ['uniform', 'distance'],\n",
    "        #'expansor'                    : [None, PolynomialFeatures(degree=2)],\n",
    "        #'nX'                          : stats.randint(2,10),\n",
    "        #'ny'                          : stats.randint(2,10),\n",
    "    },\n",
    "    { # MLP 6\n",
    "        'activation'            : ['relu', 'tanh'],\n",
    "        'early_stopping'        : [True],\n",
    "        'learning_rate_init'    : stats.loguniform(1e-4, 0.01),\n",
    "        # 'learning_rate'         : ['adaptive', 'constant'],\n",
    "        'alpha'                 : stats.loguniform(1e-5, 1e-3),\n",
    "        'hidden_layer_sizes'    : []\n",
    "        + [n_neurons for n_neurons in itertools.product([20, 60, 100], repeat=1)]\n",
    "        + [n_neurons for n_neurons in itertools.product([20, 60, 100], repeat=2)]\n",
    "        + [n_neurons for n_neurons in itertools.product([20, 60, 100], repeat=3)],\n",
    "        # + [n_neurons for n_neurons in itertools.product([20, 60, 100], repeat=4)],\n",
    "        # 'max_iter'              : [10000],#stats.randint(200,10000),\n",
    "        # 'batch_size'            : [32],\n",
    "        # 'solver'                : ['adam'], #'lbfgs'],\n",
    "        'tol'                   : stats.loguniform(1e-7, 1e-1),\n",
    "    },\n",
    "    { # DecisionTree 7\n",
    "        #'PCA__n_components'          : stats.uniform(loc=0.7, scale=0.3),\n",
    "        #'DT__criterion'              : ['gini', 'entropy'],\n",
    "        'splitter'               : ['best', 'random'],\n",
    "        'max_depth'              : stats.randint(5,20), #maxima profundidade da arvore\n",
    "        'min_samples_split'      : stats.randint(2,20), #minima quantidade de amostras para splitar\n",
    "        'min_samples_leaf'       : stats.randint(1,20), #minima quantidade de amostras por folha\n",
    "        'max_features'           : stats.uniform(),      #maxima quantidade de features para embasar a decisao de divisao\n",
    "        'max_leaf_nodes'         : stats.randint(10,150), #maxima quantidade de folhas\n",
    "        #'expansor'                    : [None, PolynomialFeatures(degree=2)],\n",
    "        #'nX'                          : stats.randint(2,10),\n",
    "        #'ny'                          : stats.randint(2,10),\n",
    "    },\n",
    "    { # RandomForest 8\n",
    "        #'PCA__n_components'          : stats.uniform(loc=0.7, scale=0.3),\n",
    "        'n_estimators'           : stats.randint(5,100), #Numero de arvores\n",
    "        #'RF__criterion'              : ['gini', 'entropy'],\n",
    "        'max_depth'              : stats.randint(1,20), #maxima profundidade da arvore\n",
    "        'min_samples_split'      : stats.randint(2,20), #minima quantidade de amostras para splitar\n",
    "        'min_samples_leaf'       : stats.randint(1,20), #minima quantidade de amostras por folha\n",
    "        'max_features'           : stats.uniform(),      #maxima quantidade de features para embasar a decisao de divisao\n",
    "        'max_leaf_nodes'         : stats.randint(10,150), #maxima quantidade de folhas\n",
    "        #'expansor'                    : [None, PolynomialFeatures(degree=2)],\n",
    "        #'nX'                          : stats.randint(2,10),\n",
    "        #'ny'                          : stats.randint(2,10),\n",
    "    },\n",
    "    { # GradientBoosting 9\n",
    "        #'PCA__n_components'          : stats.uniform(loc=0.7, scale=0.3),\n",
    "        'n_estimators'           : stats.randint(5,100), #Numero de arvores\n",
    "        'loss'                   : ['squared_error', 'absolute_error', 'huber', 'quantile'],\n",
    "        'learning_rate'          : stats.loguniform(1e-5, 1e1),\n",
    "        'criterion'              : ['friedman_mse', 'squared_error'],\n",
    "        'subsample'              : stats.uniform(),\n",
    "        #'RF__criterion'              : ['gini', 'entropy'],\n",
    "        'max_depth'              : stats.randint(1,20), #maxima profundidade da arvore\n",
    "        'min_samples_split'      : stats.randint(2,20), #minima quantidade de amostras para splitar\n",
    "        'min_samples_leaf'       : stats.randint(1,20), #minima quantidade de amostras por folha\n",
    "        'max_features'           : stats.uniform(),      #maxima quantidade de features para embasar a decisao de divisao\n",
    "        'max_leaf_nodes'         : stats.randint(10,150), #maxima quantidade de folhas\n",
    "        #'expansor'                    : [None, PolynomialFeatures(degree=2)],\n",
    "        #'nX'                          : stats.randint(2,10),\n",
    "        #'ny'                          : stats.randint(2,10),\n",
    "    },\n",
    "    { # ExtraTrees 10\n",
    "        #'PCA__n_components'          : stats.uniform(loc=0.7, scale=0.3),\n",
    "        'n_estimators'           : stats.randint(5,100), #Numero de arvores\n",
    "        'criterion'              : ['squared_error', 'absolute_error'],\n",
    "        #'RF__criterion'              : ['gini', 'entropy'],\n",
    "        'max_depth'              : stats.randint(1,20), #maxima profundidade da arvore\n",
    "        'min_samples_split'      : stats.randint(2,20), #minima quantidade de amostras para splitar\n",
    "        'min_samples_leaf'       : stats.randint(1,20), #minima quantidade de amostras por folha\n",
    "        'max_features'           : stats.uniform(),      #maxima quantidade de features para embasar a decisao de divisao\n",
    "        #'expansor'                    : [None, PolynomialFeatures(degree=2)],\n",
    "        #'nX'                          : stats.randint(2,10),\n",
    "        #'ny'                          : stats.randint(2,10),\n",
    "    },\n",
    "    { # AdaBoostRegressor 11\n",
    "        'n_estimators'              : stats.randint(5,100), #Numero de arvores\n",
    "        'learning_rate'             : stats.loguniform(1e-3, 10),\n",
    "        'loss'                      : ['linear', 'square', 'exponential'],\n",
    "    },\n",
    "    { # BaggingRegressor 12\n",
    "        'n_estimators'              : stats.randint(5,100), #Numero de arvores\n",
    "        'max_samples'               : stats.uniform(),      #maxima quantidade de features para embasar a decisao de divisao\n",
    "        'max_features'              : stats.uniform(),      #maxima quantidade de features para embasar a decisao de divisao\n",
    "        'bootstrap'                 : [True, False],      #maxima quantidade de features para embasar a decisao de divisao\n",
    "    },\n",
    "    # { # LightGBM 13\n",
    "    #     'num_leaves'                : stats.randint(5,100), # max num folhas dos base learners\n",
    "    #     'n_estimators'              : stats.randint(10,200), #Numero de arvores\n",
    "    #     'learning_rate'             : stats.loguniform(1e-3, 1),\n",
    "    #     # 'max_depth'                 : stats.randint(1,20), #maxima profundidade da arvore\n",
    "    # },\n",
    "    { # XGBoost 14\n",
    "        'n_estimators'           : stats.randint(2,100), #Numero de arvores\n",
    "        'max_depth'              : stats.randint(1,20), #maxima profundidade da arvore\n",
    "        'learning_rate'          : stats.loguniform(1e-3, 1),\n",
    "    },\n",
    "]\n",
    "# parameters"
   ]
  },
  {
   "cell_type": "code",
   "execution_count": null,
   "id": "84938238",
   "metadata": {},
   "outputs": [
    {
     "data": {
      "text/plain": [
       "RepeatedKFold(n_repeats=10, n_splits=5, random_state=48)"
      ]
     },
     "execution_count": 21,
     "metadata": {},
     "output_type": "execute_result"
    }
   ],
   "source": [
    "kfolds = 5\n",
    "niters = 10\n",
    "rkf = RepeatedKFold(n_splits=kfolds, n_repeats=niters, random_state=rs)\n",
    "rkf"
   ]
  },
  {
   "cell_type": "markdown",
   "id": "3a3e261d",
   "metadata": {},
   "source": [
    "#### Random Search"
   ]
  },
  {
   "cell_type": "code",
   "execution_count": 23,
   "id": "75ac6c1a",
   "metadata": {},
   "outputs": [],
   "source": [
    "n_iter = 100 #Numero de iterações do rdmsearch\n",
    "models=[]\n",
    "for model, params in zip(models_ml, parameters):\n",
    "    rdmsearch = RandomizedSearchCV(model[2], verbose=0, scoring='r2',\n",
    "                                   param_distributions=params, n_iter=n_iter, n_jobs=6,\n",
    "                                   cv=rkf, random_state=rs)\n",
    "\n",
    "    models.append(\n",
    "        # (model[0], model[1], rdmsearch)\n",
    "        (model[1], model[2], rdmsearch, model[0])\n",
    "    )\n",
    "\n",
    "# models"
   ]
  },
  {
   "cell_type": "markdown",
   "id": "b9929be8",
   "metadata": {},
   "source": [
    "#### Looping de treinamento"
   ]
  },
  {
   "cell_type": "code",
   "execution_count": 23,
   "id": "b54fa598",
   "metadata": {},
   "outputs": [
    {
     "name": "stdout",
     "output_type": "stream",
     "text": [
      "LinReg  R2(TR,TE)=0.486->-0.324 / MAE(TR,TE)=0.096->0.181\n",
      "PolyReg  R2(TR,TE)=0.696->0.275 / MAE(TR,TE)=0.071->0.125-------------------Best! 0.27\n",
      "SVM  "
     ]
    }
   ],
   "source": [
    "res_dict = {\n",
    "    'MODEL':[],\n",
    "    'R2_TR':[],\n",
    "    'R2_TE':[],\n",
    "    'MAE_TR':[],\n",
    "    'MAE_TE':[],\n",
    "    'MODEL_OBJ':[],\n",
    "}\n",
    "\n",
    "base_estimators_lin_nonLin = []\n",
    "base_estimators = []\n",
    "\n",
    "best_r2 = 0\n",
    "t00 = datetime.now()\n",
    "for model in models:\n",
    "    t0 = datetime.now()\n",
    "    model_name, model_estim, model_instance, model_class = model\n",
    "    print(f'{model_name}  ',end='')\n",
    "    # print(f'{model_estim}  ',end='')\n",
    "    # print(f'{model_instance}  ',end='')\n",
    "\n",
    "    with warnings.catch_warnings():\n",
    "        warnings.simplefilter(\"ignore\")\n",
    "    model_instance.fit(X=X_tr, y=y_tr);\n",
    "\n",
    "    y_hat_tr = model_instance.predict(X_tr)\n",
    "    y_hat_te = model_instance.predict(X_te)\n",
    "    r2_tr = r2_score(y_tr, y_hat_tr)\n",
    "    r2_te = r2_score(y_te, y_hat_te)\n",
    "    mae_tr = mean_absolute_error(y_tr, y_hat_tr)\n",
    "    mae_te = mean_absolute_error(y_te, y_hat_te)\n",
    "\n",
    "    res_dict['MODEL'].append(model_name)\n",
    "    res_dict['R2_TR'].append(r2_tr)\n",
    "    res_dict['R2_TE'].append(r2_te)\n",
    "    res_dict['MAE_TR'].append(mae_tr)\n",
    "    res_dict['MAE_TE'].append(mae_te)\n",
    "    res_dict['MODEL_OBJ'].append(deepcopy(model_instance))\n",
    "\n",
    "    print(f'R2(TR,TE)={r2_tr:.3f}->{r2_te:.3f} / MAE(TR,TE)={mae_tr:.3f}->{mae_te:.3f}', end='')\n",
    "    if r2_te>best_r2:\n",
    "        best_r2=r2_te\n",
    "        print(f'-------------------Best! {best_r2:.2f}')\n",
    "    else:\n",
    "        print()\n",
    "\n",
    "    # stacking select base estimators, lin+nonlin or all\n",
    "    base_estimators.append((model_name, model_instance.best_estimator_))\n",
    "    if (model_class in ['Linear','NonLinear']):\n",
    "        base_estimators_lin_nonLin.append((model_name, model_instance.best_estimator_))\n"
   ]
  },
  {
   "cell_type": "markdown",
   "id": "a6359e21",
   "metadata": {},
   "source": [
    "#### Treinando stacking ensembles"
   ]
  },
  {
   "cell_type": "code",
   "execution_count": null,
   "id": "05e2a722",
   "metadata": {},
   "outputs": [],
   "source": [
    "for regi,reg in enumerate(models_ml):\n",
    "    print(f'{reg[1]}')\n",
    "    rdmsearch_FR = RandomizedSearchCV(reg[2], verbose=0, scoring='r2',\n",
    "            param_distributions=parameters[regi], n_iter=100, n_jobs=10, cv=rkf, random_state=rs)\n",
    "\n",
    "    stack1 =  StackingRegressor(estimators=base_estimators_lin_nonLin,final_estimator=rdmsearch_FR,cv='prefit')\n",
    "    stack2 =  StackingRegressor(estimators=base_estimators,final_estimator=rdmsearch_FR,cv='prefit')\n",
    "\n",
    "    stack3 =  StackingRegressor(estimators=base_estimators_lin_nonLin,final_estimator=rdmsearch_FR)\n",
    "    stack4 =  StackingRegressor(estimators=base_estimators_lin_nonLin,final_estimator=rdmsearch_FR,cv='prefit', passthrough=True)\n",
    "\n",
    "    with warnings.catch_warnings():\n",
    "        warnings.simplefilter(\"ignore\")\n",
    "        stack1.fit(X=X_tr, y=y_tr)\n",
    "        stack2.fit(X=X_tr, y=y_tr)\n",
    "        stack3.fit(X=X_tr, y=y_tr)\n",
    "        stack4.fit(X=X_tr, y=y_tr)\n",
    "\n",
    "    r2_te = r2_score(y_te, stack1.predict(X_te))\n",
    "    print(f'\\tR2(S1)={r2_te:.3f}', end=', ')\n",
    "    res_dict['MODEL'].append(f'Stack1({reg[1]})')\n",
    "    res_dict['R2_TR'].append(r2_score(y_tr, stack1.predict(X_tr)))\n",
    "    res_dict['R2_TE'].append(r2_te)\n",
    "    res_dict['MAE_TR'].append(mean_absolute_error(y_tr, stack1.predict(X_tr)))\n",
    "    res_dict['MAE_TE'].append(mean_absolute_error(y_te, stack1.predict(X_te)))\n",
    "    res_dict['MODEL_OBJ'].append(deepcopy(stack1))\n",
    "\n",
    "    r2_te = r2_score(y_te, stack2.predict(X_te))\n",
    "    print(f'R2(S2)={r2_te:.3f}', end=', ')\n",
    "    res_dict['MODEL'].append(f'Stack2({reg[1]})')\n",
    "    res_dict['R2_TR'].append(r2_score(y_tr, stack2.predict(X_tr)))\n",
    "    res_dict['R2_TE'].append(r2_te)\n",
    "    res_dict['MAE_TR'].append(mean_absolute_error(y_tr, stack2.predict(X_tr)))\n",
    "    res_dict['MAE_TE'].append(mean_absolute_error(y_te, stack2.predict(X_te)))\n",
    "    res_dict['MODEL_OBJ'].append(deepcopy(stack2))\n",
    "\n",
    "    print(f'R2(S3)={r2_score(y_te, stack3.predict(X_te)):.3f}', end=', ')\n",
    "    print(f'R2(S4)={r2_score(y_te, stack4.predict(X_te)):.3f}')"
   ]
  },
  {
   "cell_type": "code",
   "execution_count": 94,
   "id": "10561f69",
   "metadata": {},
   "outputs": [],
   "source": [
    "df_results = pd.DataFrame(res_dict)\n",
    "# df_results.drop(['INPUTS', 'OUTPUT', 'BEST'], axis=1, inplace=True)"
   ]
  },
  {
   "cell_type": "code",
   "execution_count": 95,
   "id": "8f0cfd70",
   "metadata": {},
   "outputs": [
    {
     "data": {
      "text/html": [
       "<div>\n",
       "<style scoped>\n",
       "    .dataframe tbody tr th:only-of-type {\n",
       "        vertical-align: middle;\n",
       "    }\n",
       "\n",
       "    .dataframe tbody tr th {\n",
       "        vertical-align: top;\n",
       "    }\n",
       "\n",
       "    .dataframe thead th {\n",
       "        text-align: right;\n",
       "    }\n",
       "</style>\n",
       "<table border=\"1\" class=\"dataframe\">\n",
       "  <thead>\n",
       "    <tr style=\"text-align: right;\">\n",
       "      <th></th>\n",
       "      <th>MODEL</th>\n",
       "      <th>R2_TR</th>\n",
       "      <th>R2_TE</th>\n",
       "      <th>MAE_TR</th>\n",
       "      <th>MAE_TE</th>\n",
       "      <th>MODEL_OBJ</th>\n",
       "      <th>IN</th>\n",
       "      <th>OUT</th>\n",
       "    </tr>\n",
       "  </thead>\n",
       "  <tbody>\n",
       "    <tr>\n",
       "      <th>0</th>\n",
       "      <td>LinReg</td>\n",
       "      <td>0.486066</td>\n",
       "      <td>-0.324046</td>\n",
       "      <td>0.095940</td>\n",
       "      <td>0.180743</td>\n",
       "      <td>RandomizedSearchCV(cv=RepeatedKFold(n_repeats=...</td>\n",
       "      <td>CALI.NPHI.RHOB.PHIF.SW.RACEHM_LOG</td>\n",
       "      <td>GR</td>\n",
       "    </tr>\n",
       "    <tr>\n",
       "      <th>1</th>\n",
       "      <td>PolyReg</td>\n",
       "      <td>0.696444</td>\n",
       "      <td>0.274683</td>\n",
       "      <td>0.070976</td>\n",
       "      <td>0.124562</td>\n",
       "      <td>RandomizedSearchCV(cv=RepeatedKFold(n_repeats=...</td>\n",
       "      <td>CALI.NPHI.RHOB.PHIF.SW.RACEHM_LOG</td>\n",
       "      <td>GR</td>\n",
       "    </tr>\n",
       "    <tr>\n",
       "      <th>2</th>\n",
       "      <td>SVM</td>\n",
       "      <td>0.737503</td>\n",
       "      <td>-2.446814</td>\n",
       "      <td>0.067456</td>\n",
       "      <td>0.266955</td>\n",
       "      <td>RandomizedSearchCV(cv=RepeatedKFold(n_repeats=...</td>\n",
       "      <td>CALI.NPHI.RHOB.PHIF.SW.RACEHM_LOG</td>\n",
       "      <td>GR</td>\n",
       "    </tr>\n",
       "    <tr>\n",
       "      <th>3</th>\n",
       "      <td>KNN</td>\n",
       "      <td>1.000000</td>\n",
       "      <td>0.684046</td>\n",
       "      <td>0.000000</td>\n",
       "      <td>0.078489</td>\n",
       "      <td>RandomizedSearchCV(cv=RepeatedKFold(n_repeats=...</td>\n",
       "      <td>CALI.NPHI.RHOB.PHIF.SW.RACEHM_LOG</td>\n",
       "      <td>GR</td>\n",
       "    </tr>\n",
       "    <tr>\n",
       "      <th>4</th>\n",
       "      <td>MLP</td>\n",
       "      <td>0.842957</td>\n",
       "      <td>0.304306</td>\n",
       "      <td>0.050871</td>\n",
       "      <td>0.118773</td>\n",
       "      <td>RandomizedSearchCV(cv=RepeatedKFold(n_repeats=...</td>\n",
       "      <td>CALI.NPHI.RHOB.PHIF.SW.RACEHM_LOG</td>\n",
       "      <td>GR</td>\n",
       "    </tr>\n",
       "    <tr>\n",
       "      <th>5</th>\n",
       "      <td>DecisionTree</td>\n",
       "      <td>0.845227</td>\n",
       "      <td>0.065415</td>\n",
       "      <td>0.050883</td>\n",
       "      <td>0.124690</td>\n",
       "      <td>RandomizedSearchCV(cv=RepeatedKFold(n_repeats=...</td>\n",
       "      <td>CALI.NPHI.RHOB.PHIF.SW.RACEHM_LOG</td>\n",
       "      <td>GR</td>\n",
       "    </tr>\n",
       "    <tr>\n",
       "      <th>6</th>\n",
       "      <td>RandomForest</td>\n",
       "      <td>0.878874</td>\n",
       "      <td>0.246270</td>\n",
       "      <td>0.046601</td>\n",
       "      <td>0.110132</td>\n",
       "      <td>RandomizedSearchCV(cv=RepeatedKFold(n_repeats=...</td>\n",
       "      <td>CALI.NPHI.RHOB.PHIF.SW.RACEHM_LOG</td>\n",
       "      <td>GR</td>\n",
       "    </tr>\n",
       "    <tr>\n",
       "      <th>7</th>\n",
       "      <td>GradientBoosting</td>\n",
       "      <td>0.912621</td>\n",
       "      <td>0.302617</td>\n",
       "      <td>0.035876</td>\n",
       "      <td>0.108839</td>\n",
       "      <td>RandomizedSearchCV(cv=RepeatedKFold(n_repeats=...</td>\n",
       "      <td>CALI.NPHI.RHOB.PHIF.SW.RACEHM_LOG</td>\n",
       "      <td>GR</td>\n",
       "    </tr>\n",
       "    <tr>\n",
       "      <th>8</th>\n",
       "      <td>ExtraTrees</td>\n",
       "      <td>0.874774</td>\n",
       "      <td>0.562625</td>\n",
       "      <td>0.041682</td>\n",
       "      <td>0.095647</td>\n",
       "      <td>RandomizedSearchCV(cv=RepeatedKFold(n_repeats=...</td>\n",
       "      <td>CALI.NPHI.RHOB.PHIF.SW.RACEHM_LOG</td>\n",
       "      <td>GR</td>\n",
       "    </tr>\n",
       "    <tr>\n",
       "      <th>9</th>\n",
       "      <td>AdaBoostRegressor</td>\n",
       "      <td>0.627974</td>\n",
       "      <td>0.359780</td>\n",
       "      <td>0.087269</td>\n",
       "      <td>0.103868</td>\n",
       "      <td>RandomizedSearchCV(cv=RepeatedKFold(n_repeats=...</td>\n",
       "      <td>CALI.NPHI.RHOB.PHIF.SW.RACEHM_LOG</td>\n",
       "      <td>GR</td>\n",
       "    </tr>\n",
       "    <tr>\n",
       "      <th>10</th>\n",
       "      <td>BaggingRegressor</td>\n",
       "      <td>0.988381</td>\n",
       "      <td>0.205610</td>\n",
       "      <td>0.012944</td>\n",
       "      <td>0.111919</td>\n",
       "      <td>RandomizedSearchCV(cv=RepeatedKFold(n_repeats=...</td>\n",
       "      <td>CALI.NPHI.RHOB.PHIF.SW.RACEHM_LOG</td>\n",
       "      <td>GR</td>\n",
       "    </tr>\n",
       "    <tr>\n",
       "      <th>11</th>\n",
       "      <td>LightGBM</td>\n",
       "      <td>0.944899</td>\n",
       "      <td>0.170047</td>\n",
       "      <td>0.030004</td>\n",
       "      <td>0.115993</td>\n",
       "      <td>RandomizedSearchCV(cv=RepeatedKFold(n_repeats=...</td>\n",
       "      <td>CALI.NPHI.RHOB.PHIF.SW.RACEHM_LOG</td>\n",
       "      <td>GR</td>\n",
       "    </tr>\n",
       "    <tr>\n",
       "      <th>12</th>\n",
       "      <td>XGBoost</td>\n",
       "      <td>0.984056</td>\n",
       "      <td>0.173986</td>\n",
       "      <td>0.015960</td>\n",
       "      <td>0.118056</td>\n",
       "      <td>RandomizedSearchCV(cv=RepeatedKFold(n_repeats=...</td>\n",
       "      <td>CALI.NPHI.RHOB.PHIF.SW.RACEHM_LOG</td>\n",
       "      <td>GR</td>\n",
       "    </tr>\n",
       "  </tbody>\n",
       "</table>\n",
       "</div>"
      ],
      "text/plain": [
       "                MODEL     R2_TR     R2_TE    MAE_TR    MAE_TE  \\\n",
       "0              LinReg  0.486066 -0.324046  0.095940  0.180743   \n",
       "1             PolyReg  0.696444  0.274683  0.070976  0.124562   \n",
       "2                 SVM  0.737503 -2.446814  0.067456  0.266955   \n",
       "3                 KNN  1.000000  0.684046  0.000000  0.078489   \n",
       "4                 MLP  0.842957  0.304306  0.050871  0.118773   \n",
       "5        DecisionTree  0.845227  0.065415  0.050883  0.124690   \n",
       "6        RandomForest  0.878874  0.246270  0.046601  0.110132   \n",
       "7    GradientBoosting  0.912621  0.302617  0.035876  0.108839   \n",
       "8          ExtraTrees  0.874774  0.562625  0.041682  0.095647   \n",
       "9   AdaBoostRegressor  0.627974  0.359780  0.087269  0.103868   \n",
       "10   BaggingRegressor  0.988381  0.205610  0.012944  0.111919   \n",
       "11           LightGBM  0.944899  0.170047  0.030004  0.115993   \n",
       "12            XGBoost  0.984056  0.173986  0.015960  0.118056   \n",
       "\n",
       "                                            MODEL_OBJ  \\\n",
       "0   RandomizedSearchCV(cv=RepeatedKFold(n_repeats=...   \n",
       "1   RandomizedSearchCV(cv=RepeatedKFold(n_repeats=...   \n",
       "2   RandomizedSearchCV(cv=RepeatedKFold(n_repeats=...   \n",
       "3   RandomizedSearchCV(cv=RepeatedKFold(n_repeats=...   \n",
       "4   RandomizedSearchCV(cv=RepeatedKFold(n_repeats=...   \n",
       "5   RandomizedSearchCV(cv=RepeatedKFold(n_repeats=...   \n",
       "6   RandomizedSearchCV(cv=RepeatedKFold(n_repeats=...   \n",
       "7   RandomizedSearchCV(cv=RepeatedKFold(n_repeats=...   \n",
       "8   RandomizedSearchCV(cv=RepeatedKFold(n_repeats=...   \n",
       "9   RandomizedSearchCV(cv=RepeatedKFold(n_repeats=...   \n",
       "10  RandomizedSearchCV(cv=RepeatedKFold(n_repeats=...   \n",
       "11  RandomizedSearchCV(cv=RepeatedKFold(n_repeats=...   \n",
       "12  RandomizedSearchCV(cv=RepeatedKFold(n_repeats=...   \n",
       "\n",
       "                                   IN OUT  \n",
       "0   CALI.NPHI.RHOB.PHIF.SW.RACEHM_LOG  GR  \n",
       "1   CALI.NPHI.RHOB.PHIF.SW.RACEHM_LOG  GR  \n",
       "2   CALI.NPHI.RHOB.PHIF.SW.RACEHM_LOG  GR  \n",
       "3   CALI.NPHI.RHOB.PHIF.SW.RACEHM_LOG  GR  \n",
       "4   CALI.NPHI.RHOB.PHIF.SW.RACEHM_LOG  GR  \n",
       "5   CALI.NPHI.RHOB.PHIF.SW.RACEHM_LOG  GR  \n",
       "6   CALI.NPHI.RHOB.PHIF.SW.RACEHM_LOG  GR  \n",
       "7   CALI.NPHI.RHOB.PHIF.SW.RACEHM_LOG  GR  \n",
       "8   CALI.NPHI.RHOB.PHIF.SW.RACEHM_LOG  GR  \n",
       "9   CALI.NPHI.RHOB.PHIF.SW.RACEHM_LOG  GR  \n",
       "10  CALI.NPHI.RHOB.PHIF.SW.RACEHM_LOG  GR  \n",
       "11  CALI.NPHI.RHOB.PHIF.SW.RACEHM_LOG  GR  \n",
       "12  CALI.NPHI.RHOB.PHIF.SW.RACEHM_LOG  GR  "
      ]
     },
     "execution_count": 95,
     "metadata": {},
     "output_type": "execute_result"
    }
   ],
   "source": [
    "df_results['IN'] = '.'.join(inputs)\n",
    "df_results['OUT'] = output[0]\n",
    "df_results"
   ]
  },
  {
   "cell_type": "code",
   "execution_count": 96,
   "id": "0e2f5d62",
   "metadata": {},
   "outputs": [
    {
     "data": {
      "text/plain": [
       "(0.5, 1.0)"
      ]
     },
     "execution_count": 96,
     "metadata": {},
     "output_type": "execute_result"
    },
    {
     "data": {
      "image/png": "[encoded data removed]",
      "text/plain": [
       "<Figure size 600x600 with 1 Axes>"
      ]
     },
     "metadata": {},
     "output_type": "display_data"
    }
   ],
   "source": [
    "lim = (0.5, 1)\n",
    "fsize = (6, 6)\n",
    "\n",
    "plt.figure(figsize=fsize)\n",
    "sns.scatterplot(data=df_results, y='R2_TE', x='R2_TR', hue='MODEL', s=100, palette='tab10')\n",
    "plt.plot([0,1],[0,1], 'r--')\n",
    "plt.xlim(lim)\n",
    "plt.ylim(lim)"
   ]
  },
  {
   "cell_type": "code",
   "execution_count": 97,
   "id": "bbd891c7",
   "metadata": {},
   "outputs": [
    {
     "data": {
      "text/html": [
       "<div>\n",
       "<style scoped>\n",
       "    .dataframe tbody tr th:only-of-type {\n",
       "        vertical-align: middle;\n",
       "    }\n",
       "\n",
       "    .dataframe tbody tr th {\n",
       "        vertical-align: top;\n",
       "    }\n",
       "\n",
       "    .dataframe thead th {\n",
       "        text-align: right;\n",
       "    }\n",
       "</style>\n",
       "<table border=\"1\" class=\"dataframe\">\n",
       "  <thead>\n",
       "    <tr style=\"text-align: right;\">\n",
       "      <th></th>\n",
       "      <th>MODEL</th>\n",
       "      <th>R2_TR</th>\n",
       "      <th>R2_TE</th>\n",
       "      <th>MAE_TR</th>\n",
       "      <th>MAE_TE</th>\n",
       "      <th>MODEL_OBJ</th>\n",
       "      <th>IN</th>\n",
       "      <th>OUT</th>\n",
       "    </tr>\n",
       "  </thead>\n",
       "  <tbody>\n",
       "    <tr>\n",
       "      <th>0</th>\n",
       "      <td>KNN</td>\n",
       "      <td>1.000000</td>\n",
       "      <td>0.684046</td>\n",
       "      <td>0.000000</td>\n",
       "      <td>0.078489</td>\n",
       "      <td>RandomizedSearchCV(cv=RepeatedKFold(n_repeats=...</td>\n",
       "      <td>CALI.NPHI.RHOB.PHIF.SW.RACEHM_LOG</td>\n",
       "      <td>GR</td>\n",
       "    </tr>\n",
       "    <tr>\n",
       "      <th>1</th>\n",
       "      <td>ExtraTrees</td>\n",
       "      <td>0.874774</td>\n",
       "      <td>0.562625</td>\n",
       "      <td>0.041682</td>\n",
       "      <td>0.095647</td>\n",
       "      <td>RandomizedSearchCV(cv=RepeatedKFold(n_repeats=...</td>\n",
       "      <td>CALI.NPHI.RHOB.PHIF.SW.RACEHM_LOG</td>\n",
       "      <td>GR</td>\n",
       "    </tr>\n",
       "    <tr>\n",
       "      <th>2</th>\n",
       "      <td>AdaBoostRegressor</td>\n",
       "      <td>0.627974</td>\n",
       "      <td>0.359780</td>\n",
       "      <td>0.087269</td>\n",
       "      <td>0.103868</td>\n",
       "      <td>RandomizedSearchCV(cv=RepeatedKFold(n_repeats=...</td>\n",
       "      <td>CALI.NPHI.RHOB.PHIF.SW.RACEHM_LOG</td>\n",
       "      <td>GR</td>\n",
       "    </tr>\n",
       "    <tr>\n",
       "      <th>3</th>\n",
       "      <td>MLP</td>\n",
       "      <td>0.842957</td>\n",
       "      <td>0.304306</td>\n",
       "      <td>0.050871</td>\n",
       "      <td>0.118773</td>\n",
       "      <td>RandomizedSearchCV(cv=RepeatedKFold(n_repeats=...</td>\n",
       "      <td>CALI.NPHI.RHOB.PHIF.SW.RACEHM_LOG</td>\n",
       "      <td>GR</td>\n",
       "    </tr>\n",
       "    <tr>\n",
       "      <th>4</th>\n",
       "      <td>GradientBoosting</td>\n",
       "      <td>0.912621</td>\n",
       "      <td>0.302617</td>\n",
       "      <td>0.035876</td>\n",
       "      <td>0.108839</td>\n",
       "      <td>RandomizedSearchCV(cv=RepeatedKFold(n_repeats=...</td>\n",
       "      <td>CALI.NPHI.RHOB.PHIF.SW.RACEHM_LOG</td>\n",
       "      <td>GR</td>\n",
       "    </tr>\n",
       "    <tr>\n",
       "      <th>5</th>\n",
       "      <td>PolyReg</td>\n",
       "      <td>0.696444</td>\n",
       "      <td>0.274683</td>\n",
       "      <td>0.070976</td>\n",
       "      <td>0.124562</td>\n",
       "      <td>RandomizedSearchCV(cv=RepeatedKFold(n_repeats=...</td>\n",
       "      <td>CALI.NPHI.RHOB.PHIF.SW.RACEHM_LOG</td>\n",
       "      <td>GR</td>\n",
       "    </tr>\n",
       "    <tr>\n",
       "      <th>6</th>\n",
       "      <td>RandomForest</td>\n",
       "      <td>0.878874</td>\n",
       "      <td>0.246270</td>\n",
       "      <td>0.046601</td>\n",
       "      <td>0.110132</td>\n",
       "      <td>RandomizedSearchCV(cv=RepeatedKFold(n_repeats=...</td>\n",
       "      <td>CALI.NPHI.RHOB.PHIF.SW.RACEHM_LOG</td>\n",
       "      <td>GR</td>\n",
       "    </tr>\n",
       "    <tr>\n",
       "      <th>7</th>\n",
       "      <td>BaggingRegressor</td>\n",
       "      <td>0.988381</td>\n",
       "      <td>0.205610</td>\n",
       "      <td>0.012944</td>\n",
       "      <td>0.111919</td>\n",
       "      <td>RandomizedSearchCV(cv=RepeatedKFold(n_repeats=...</td>\n",
       "      <td>CALI.NPHI.RHOB.PHIF.SW.RACEHM_LOG</td>\n",
       "      <td>GR</td>\n",
       "    </tr>\n",
       "    <tr>\n",
       "      <th>8</th>\n",
       "      <td>XGBoost</td>\n",
       "      <td>0.984056</td>\n",
       "      <td>0.173986</td>\n",
       "      <td>0.015960</td>\n",
       "      <td>0.118056</td>\n",
       "      <td>RandomizedSearchCV(cv=RepeatedKFold(n_repeats=...</td>\n",
       "      <td>CALI.NPHI.RHOB.PHIF.SW.RACEHM_LOG</td>\n",
       "      <td>GR</td>\n",
       "    </tr>\n",
       "    <tr>\n",
       "      <th>9</th>\n",
       "      <td>LightGBM</td>\n",
       "      <td>0.944899</td>\n",
       "      <td>0.170047</td>\n",
       "      <td>0.030004</td>\n",
       "      <td>0.115993</td>\n",
       "      <td>RandomizedSearchCV(cv=RepeatedKFold(n_repeats=...</td>\n",
       "      <td>CALI.NPHI.RHOB.PHIF.SW.RACEHM_LOG</td>\n",
       "      <td>GR</td>\n",
       "    </tr>\n",
       "    <tr>\n",
       "      <th>10</th>\n",
       "      <td>DecisionTree</td>\n",
       "      <td>0.845227</td>\n",
       "      <td>0.065415</td>\n",
       "      <td>0.050883</td>\n",
       "      <td>0.124690</td>\n",
       "      <td>RandomizedSearchCV(cv=RepeatedKFold(n_repeats=...</td>\n",
       "      <td>CALI.NPHI.RHOB.PHIF.SW.RACEHM_LOG</td>\n",
       "      <td>GR</td>\n",
       "    </tr>\n",
       "    <tr>\n",
       "      <th>11</th>\n",
       "      <td>LinReg</td>\n",
       "      <td>0.486066</td>\n",
       "      <td>-0.324046</td>\n",
       "      <td>0.095940</td>\n",
       "      <td>0.180743</td>\n",
       "      <td>RandomizedSearchCV(cv=RepeatedKFold(n_repeats=...</td>\n",
       "      <td>CALI.NPHI.RHOB.PHIF.SW.RACEHM_LOG</td>\n",
       "      <td>GR</td>\n",
       "    </tr>\n",
       "    <tr>\n",
       "      <th>12</th>\n",
       "      <td>SVM</td>\n",
       "      <td>0.737503</td>\n",
       "      <td>-2.446814</td>\n",
       "      <td>0.067456</td>\n",
       "      <td>0.266955</td>\n",
       "      <td>RandomizedSearchCV(cv=RepeatedKFold(n_repeats=...</td>\n",
       "      <td>CALI.NPHI.RHOB.PHIF.SW.RACEHM_LOG</td>\n",
       "      <td>GR</td>\n",
       "    </tr>\n",
       "  </tbody>\n",
       "</table>\n",
       "</div>"
      ],
      "text/plain": [
       "                MODEL     R2_TR     R2_TE    MAE_TR    MAE_TE  \\\n",
       "0                 KNN  1.000000  0.684046  0.000000  0.078489   \n",
       "1          ExtraTrees  0.874774  0.562625  0.041682  0.095647   \n",
       "2   AdaBoostRegressor  0.627974  0.359780  0.087269  0.103868   \n",
       "3                 MLP  0.842957  0.304306  0.050871  0.118773   \n",
       "4    GradientBoosting  0.912621  0.302617  0.035876  0.108839   \n",
       "5             PolyReg  0.696444  0.274683  0.070976  0.124562   \n",
       "6        RandomForest  0.878874  0.246270  0.046601  0.110132   \n",
       "7    BaggingRegressor  0.988381  0.205610  0.012944  0.111919   \n",
       "8             XGBoost  0.984056  0.173986  0.015960  0.118056   \n",
       "9            LightGBM  0.944899  0.170047  0.030004  0.115993   \n",
       "10       DecisionTree  0.845227  0.065415  0.050883  0.124690   \n",
       "11             LinReg  0.486066 -0.324046  0.095940  0.180743   \n",
       "12                SVM  0.737503 -2.446814  0.067456  0.266955   \n",
       "\n",
       "                                            MODEL_OBJ  \\\n",
       "0   RandomizedSearchCV(cv=RepeatedKFold(n_repeats=...   \n",
       "1   RandomizedSearchCV(cv=RepeatedKFold(n_repeats=...   \n",
       "2   RandomizedSearchCV(cv=RepeatedKFold(n_repeats=...   \n",
       "3   RandomizedSearchCV(cv=RepeatedKFold(n_repeats=...   \n",
       "4   RandomizedSearchCV(cv=RepeatedKFold(n_repeats=...   \n",
       "5   RandomizedSearchCV(cv=RepeatedKFold(n_repeats=...   \n",
       "6   RandomizedSearchCV(cv=RepeatedKFold(n_repeats=...   \n",
       "7   RandomizedSearchCV(cv=RepeatedKFold(n_repeats=...   \n",
       "8   RandomizedSearchCV(cv=RepeatedKFold(n_repeats=...   \n",
       "9   RandomizedSearchCV(cv=RepeatedKFold(n_repeats=...   \n",
       "10  RandomizedSearchCV(cv=RepeatedKFold(n_repeats=...   \n",
       "11  RandomizedSearchCV(cv=RepeatedKFold(n_repeats=...   \n",
       "12  RandomizedSearchCV(cv=RepeatedKFold(n_repeats=...   \n",
       "\n",
       "                                   IN OUT  \n",
       "0   CALI.NPHI.RHOB.PHIF.SW.RACEHM_LOG  GR  \n",
       "1   CALI.NPHI.RHOB.PHIF.SW.RACEHM_LOG  GR  \n",
       "2   CALI.NPHI.RHOB.PHIF.SW.RACEHM_LOG  GR  \n",
       "3   CALI.NPHI.RHOB.PHIF.SW.RACEHM_LOG  GR  \n",
       "4   CALI.NPHI.RHOB.PHIF.SW.RACEHM_LOG  GR  \n",
       "5   CALI.NPHI.RHOB.PHIF.SW.RACEHM_LOG  GR  \n",
       "6   CALI.NPHI.RHOB.PHIF.SW.RACEHM_LOG  GR  \n",
       "7   CALI.NPHI.RHOB.PHIF.SW.RACEHM_LOG  GR  \n",
       "8   CALI.NPHI.RHOB.PHIF.SW.RACEHM_LOG  GR  \n",
       "9   CALI.NPHI.RHOB.PHIF.SW.RACEHM_LOG  GR  \n",
       "10  CALI.NPHI.RHOB.PHIF.SW.RACEHM_LOG  GR  \n",
       "11  CALI.NPHI.RHOB.PHIF.SW.RACEHM_LOG  GR  \n",
       "12  CALI.NPHI.RHOB.PHIF.SW.RACEHM_LOG  GR  "
      ]
     },
     "execution_count": 97,
     "metadata": {},
     "output_type": "execute_result"
    }
   ],
   "source": [
    "df_results = df_results.sort_values('R2_TE', ascending=False).reset_index(drop=True)\n",
    "df_results"
   ]
  },
  {
   "cell_type": "code",
   "execution_count": 98,
   "id": "b9d035f6",
   "metadata": {},
   "outputs": [],
   "source": [
    "best_model = df_results.loc[0,'MODEL']\n",
    "y_hat = df_results.loc[0,'MODEL_OBJ'].predict(X_te)"
   ]
  },
  {
   "cell_type": "code",
   "execution_count": 99,
   "id": "b7244477",
   "metadata": {},
   "outputs": [
    {
     "data": {
      "image/png": "[encoded data removed]",
      "text/plain": [
       "<Figure size 600x900 with 1 Axes>"
      ]
     },
     "metadata": {},
     "output_type": "display_data"
    }
   ],
   "source": [
    "plt.figure(figsize=(6,9))\n",
    "plt.plot(y_te,test_df['MD'],'ro')\n",
    "plt.plot(y_hat,test_df['MD'], 'k', lw=2)\n",
    "plt.gca().invert_yaxis()\n",
    "plt.title(f'{best_model} prediction for {output[0]}, $R^2$:{r2_score(y_te, y_hat):.3f}')\n",
    "plt.xlabel(f'Normalized {output[0]}')\n",
    "plt.ylabel('Depth[m]')\n",
    "plt.legend(['$y$ - observed','$\\hat{y}$ - predictions'])\n",
    "plt.grid()\n"
   ]
  },
  {
   "cell_type": "code",
   "execution_count": 100,
   "id": "7bcb8cc1",
   "metadata": {},
   "outputs": [
    {
     "data": {
      "image/png": "[encoded data removed]",
      "text/plain": [
       "<Figure size 500x500 with 1 Axes>"
      ]
     },
     "metadata": {},
     "output_type": "display_data"
    }
   ],
   "source": [
    "fig = plt.figure(figsize=(5,5))\n",
    "# fig = plt.figure(figsize=(12,12))\n",
    "lim =(0,1)\n",
    "\n",
    "sns.scatterplot(x=y_te.ravel(), y=y_hat.ravel(), s=50, color='.3')\n",
    "# sns.kdeplot(x=y_te.ravel(), y=y_hat.ravel(), levels=10, linewidths=1, thresh=0.01, color='grey')\n",
    "\n",
    "plt.plot(lim, lim, 'r--', label='$\\hat{y}=y$')\n",
    "plt.xlim(lim)\n",
    "plt.ylim(lim)\n",
    "\n",
    "plt.xlabel('$y$ - observed')\n",
    "plt.ylabel('$\\hat{y}$ - predictions')\n",
    "\n",
    "plt.legend(loc='upper left')\n",
    "\n",
    "plt.title(f\"Observed x Predictions \\n {df_results.loc[0,'MODEL']}: R²:{df_results.loc[0,'R2_TE']:.3f}\")\n",
    "\n",
    "# p = os.path.join(os.getcwd(), 'outputs', 'images_ensembles', '7_crossplot_y_yhat.eps')\n",
    "# fig.savefig(p, format='eps')\n",
    "pass;\n"
   ]
  },
  {
   "cell_type": "code",
   "execution_count": 103,
   "id": "353e6dc6",
   "metadata": {},
   "outputs": [
    {
     "name": "stdout",
     "output_type": "stream",
     "text": [
      "c:\\Users\\bewm\\OneDrive - PETROBRAS\\Documents\\2_Projetos\\Mestrado\\SYSID_well_logs\\Outputs\\REG_GR_FILT.pkl\n"
     ]
    }
   ],
   "source": [
    "prefix = 'REG_GR_FILT'\n",
    "binary = os.path.join(os.getcwd(), 'Outputs', f'{prefix}.pkl')\n",
    "print(binary)\n",
    "\n",
    "with open(binary, 'wb') as bin_file:\n",
    "    pickle.dump(df_results, bin_file)"
   ]
  },
  {
   "cell_type": "markdown",
   "id": "6850a2a8",
   "metadata": {},
   "source": [
    "#### Estudos dos parametros e tempos de treinamento e param"
   ]
  },
  {
   "cell_type": "code",
   "execution_count": 101,
   "id": "e78965d1",
   "metadata": {},
   "outputs": [
    {
     "name": "stdout",
     "output_type": "stream",
     "text": [
      "KNeighborsRegressor {'algorithm': 'auto', 'leaf_size': 30, 'metric': 'minkowski', 'metric_params': None, 'n_jobs': None, 'n_neighbors': 7, 'p': 2, 'weights': 'distance'}\n",
      "ExtraTreesRegressor {'bootstrap': False, 'ccp_alpha': 0.0, 'criterion': 'absolute_error', 'max_depth': 16, 'max_features': 0.9098190622539555, 'max_leaf_nodes': None, 'max_samples': None, 'min_impurity_decrease': 0.0, 'min_samples_leaf': 6, 'min_samples_split': 7, 'min_weight_fraction_leaf': 0.0, 'n_estimators': 55, 'n_jobs': None, 'oob_score': False, 'random_state': 48, 'verbose': 0, 'warm_start': False}\n",
      "AdaBoostRegressor {'base_estimator': 'deprecated', 'estimator': None, 'learning_rate': 1.2242691872707012, 'loss': 'exponential', 'n_estimators': 19, 'random_state': 48}\n",
      "MLPRegressor {'activation': 'relu', 'alpha': 1.0948756437373362e-05, 'batch_size': 'auto', 'beta_1': 0.9, 'beta_2': 0.999, 'early_stopping': True, 'epsilon': 1e-08, 'hidden_layer_sizes': (100, 60, 100), 'learning_rate': 'constant', 'learning_rate_init': 0.0016323623437366178, 'max_fun': 15000, 'max_iter': 200, 'momentum': 0.9, 'n_iter_no_change': 10, 'nesterovs_momentum': True, 'power_t': 0.5, 'random_state': 48, 'shuffle': True, 'solver': 'adam', 'tol': 1.1809795132240308e-07, 'validation_fraction': 0.1, 'verbose': False, 'warm_start': False}\n",
      "GradientBoostingRegressor {'alpha': 0.9, 'ccp_alpha': 0.0, 'criterion': 'friedman_mse', 'init': None, 'learning_rate': 0.05706279307035697, 'loss': 'huber', 'max_depth': 19, 'max_features': 0.3988770128150415, 'max_leaf_nodes': 96, 'min_impurity_decrease': 0.0, 'min_samples_leaf': 18, 'min_samples_split': 8, 'min_weight_fraction_leaf': 0.0, 'n_estimators': 87, 'n_iter_no_change': None, 'random_state': 48, 'subsample': 0.8220101694638184, 'tol': 0.0001, 'validation_fraction': 0.1, 'verbose': 0, 'warm_start': False}\n",
      "Pipeline {'memory': None, 'steps': [('Poly', PolynomialFeatures()), ('Reg', LinearRegression())], 'verbose': False, 'Poly': PolynomialFeatures(), 'Reg': LinearRegression(), 'Poly__degree': 2, 'Poly__include_bias': True, 'Poly__interaction_only': False, 'Poly__order': 'C', 'Reg__copy_X': True, 'Reg__fit_intercept': True, 'Reg__n_jobs': None, 'Reg__positive': False}\n",
      "RandomForestRegressor {'bootstrap': True, 'ccp_alpha': 0.0, 'criterion': 'squared_error', 'max_depth': 11, 'max_features': 0.679914691937932, 'max_leaf_nodes': 132, 'max_samples': None, 'min_impurity_decrease': 0.0, 'min_samples_leaf': 1, 'min_samples_split': 6, 'min_weight_fraction_leaf': 0.0, 'n_estimators': 84, 'n_jobs': None, 'oob_score': False, 'random_state': 48, 'verbose': 0, 'warm_start': False}\n",
      "BaggingRegressor {'base_estimator': 'deprecated', 'bootstrap': False, 'bootstrap_features': False, 'estimator': None, 'max_features': 0.994482794551525, 'max_samples': 0.7241088978456394, 'n_estimators': 78, 'n_jobs': None, 'oob_score': False, 'random_state': 48, 'verbose': 0, 'warm_start': False}\n",
      "XGBRegressor {'objective': 'reg:squarederror', 'base_score': None, 'booster': None, 'callbacks': None, 'colsample_bylevel': None, 'colsample_bynode': None, 'colsample_bytree': None, 'early_stopping_rounds': None, 'enable_categorical': False, 'eval_metric': None, 'feature_types': None, 'gamma': None, 'gpu_id': None, 'grow_policy': None, 'importance_type': None, 'interaction_constraints': None, 'learning_rate': 0.11469186118605579, 'max_bin': None, 'max_cat_threshold': None, 'max_cat_to_onehot': None, 'max_delta_step': None, 'max_depth': 10, 'max_leaves': None, 'min_child_weight': None, 'missing': nan, 'monotone_constraints': None, 'n_estimators': 80, 'n_jobs': None, 'num_parallel_tree': None, 'predictor': None, 'random_state': None, 'reg_alpha': None, 'reg_lambda': None, 'sampling_method': None, 'scale_pos_weight': None, 'subsample': None, 'tree_method': None, 'validate_parameters': None, 'verbosity': None}\n",
      "LGBMRegressor {'boosting_type': 'gbdt', 'class_weight': None, 'colsample_bytree': 1.0, 'importance_type': 'split', 'learning_rate': 0.04412550807724967, 'max_depth': -1, 'min_child_samples': 20, 'min_child_weight': 0.001, 'min_split_gain': 0.0, 'n_estimators': 186, 'n_jobs': -1, 'num_leaves': 96, 'objective': None, 'random_state': None, 'reg_alpha': 0.0, 'reg_lambda': 0.0, 'silent': 'warn', 'subsample': 1.0, 'subsample_for_bin': 200000, 'subsample_freq': 0}\n",
      "DecisionTreeRegressor {'ccp_alpha': 0.0, 'criterion': 'squared_error', 'max_depth': 17, 'max_features': 0.8864802538069065, 'max_leaf_nodes': 142, 'min_impurity_decrease': 0.0, 'min_samples_leaf': 8, 'min_samples_split': 9, 'min_weight_fraction_leaf': 0.0, 'random_state': 48, 'splitter': 'best'}\n",
      "LinearRegression {'copy_X': True, 'fit_intercept': True, 'n_jobs': None, 'positive': False}\n",
      "SVR {'C': 892.3435786933503, 'cache_size': 200, 'coef0': 0.0, 'degree': 5, 'epsilon': 0.1, 'gamma': 0.26030250827061213, 'kernel': 'poly', 'max_iter': -1, 'shrinking': True, 'tol': 0.001, 'verbose': False}\n"
     ]
    }
   ],
   "source": [
    "for i,m in enumerate(df_results['MODEL_OBJ']):\n",
    "    dfp = m.best_estimator_.get_params()\n",
    "    print (m.best_estimator_.__class__.__name__, dfp)"
   ]
  },
  {
   "cell_type": "code",
   "execution_count": 102,
   "id": "e1b003ac",
   "metadata": {},
   "outputs": [
    {
     "name": "stdout",
     "output_type": "stream",
     "text": [
      "KNeighborsRegressor: 11 ms\n",
      "ExtraTreesRegressor: 4838 ms\n",
      "AdaBoostRegressor: 420 ms\n",
      "MLPRegressor: 4795 ms\n",
      "GradientBoostingRegressor: 1022 ms\n",
      "Pipeline: 12 ms\n",
      "RandomForestRegressor: 446 ms\n",
      "BaggingRegressor: 874 ms\n",
      "XGBRegressor: 455 ms\n",
      "LGBMRegressor: 201 ms\n",
      "DecisionTreeRegressor: 6 ms\n",
      "LinearRegression: 3 ms\n",
      "SVR: 964 ms\n"
     ]
    }
   ],
   "source": [
    "for i,m in enumerate(df_results['MODEL_OBJ']):\n",
    "    estim_cvr = m.cv_results_\n",
    "    print (f\"{m.best_estimator_.__class__.__name__}:\", f\"{np.mean(estim_cvr['mean_fit_time'])*1000:.0f} ms\")\n",
    "\n",
    "# for i,m in enumerate(df_rank['MODEL_OBJ']):\n",
    "# if m.estimator.cv == 'prefit': #stack\n",
    "#     print (m.estimator.final_estimator_.best_estimator_)\n",
    "# else: #no stack\n",
    "#     print (m.estimator.best_estimator_)"
   ]
  },
  {
   "cell_type": "code",
   "execution_count": null,
   "id": "eae64fb0",
   "metadata": {},
   "outputs": [],
   "source": []
  }
 ],
 "metadata": {
  "kernelspec": {
   "display_name": "Python 3.10.0 ('control')",
   "language": "python",
   "name": "python3"
  },
  "language_info": {
   "codemirror_mode": {
    "name": "ipython",
    "version": 3
   },
   "file_extension": ".py",
   "mimetype": "text/x-python",
   "name": "python",
   "nbconvert_exporter": "python",
   "pygments_lexer": "ipython3",
   "version": "3.11.1"
  },
  "vscode": {
   "interpreter": {
    "hash": "33f270a2ca47397b46974cef3528e98ccade154a5094b511d44fad4d3933988e"
   }
  }
 },
 "nbformat": 4,
 "nbformat_minor": 5
}
