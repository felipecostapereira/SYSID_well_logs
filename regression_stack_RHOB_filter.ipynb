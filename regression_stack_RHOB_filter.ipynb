{
 "cells": [
  {
   "cell_type": "markdown",
   "id": "ed3242df",
   "metadata": {},
   "source": [
    "### Bibliotecas"
   ]
  },
  {
   "cell_type": "code",
   "execution_count": 1,
   "id": "d7bf37a3",
   "metadata": {},
   "outputs": [],
   "source": [
    "import seaborn as sns\n",
    "import matplotlib.pyplot as plt\n",
    "import pandas as pd\n",
    "import numpy as np\n",
    "from datetime import datetime\n",
    "import os\n",
    "import pickle\n",
    "\n",
    "from sklearn.preprocessing import MinMaxScaler, StandardScaler, PolynomialFeatures\n",
    "from sklearn.model_selection import RepeatedKFold, RandomizedSearchCV\n",
    "from sklearn.metrics import r2_score, mean_absolute_error\n",
    "\n",
    "#Modelos\n",
    "from sklearn.linear_model import LinearRegression\n",
    "from sklearn.pipeline import Pipeline\n",
    "from sklearn.svm import SVR\n",
    "from sklearn.neighbors import KNeighborsRegressor\n",
    "from sklearn.neural_network import MLPRegressor\n",
    "from sklearn.tree import DecisionTreeRegressor\n",
    "from sklearn.ensemble import RandomForestRegressor, GradientBoostingRegressor, ExtraTreesRegressor, AdaBoostRegressor, BaggingRegressor\n",
    "from sklearn.ensemble import StackingRegressor\n",
    "from sklearn.neural_network import MLPRegressor\n",
    "from sklearn.ensemble import StackingRegressor\n",
    "import lightgbm as lgb\n",
    "import xgboost as xgb\n",
    "\n",
    "from scipy import stats\n",
    "import itertools\n",
    "\n",
    "from copy import deepcopy\n",
    "\n",
    "import warnings\n",
    "warnings.simplefilter(action='ignore', category=FutureWarning)\n",
    "warnings.simplefilter(action='ignore', category=UserWarning)"
   ]
  },
  {
   "cell_type": "markdown",
   "id": "ffa952c9",
   "metadata": {},
   "source": [
    "### Lendo Dados"
   ]
  },
  {
   "cell_type": "code",
   "execution_count": 2,
   "id": "5ac867d7",
   "metadata": {},
   "outputs": [
    {
     "data": {
      "text/plain": [
       "(23733, 10)"
      ]
     },
     "execution_count": 2,
     "metadata": {},
     "output_type": "execute_result"
    }
   ],
   "source": [
    "df = pd.read_csv('./Data/volve_preproc.csv')\n",
    "df.shape"
   ]
  },
  {
   "cell_type": "markdown",
   "id": "bbc0ffe0",
   "metadata": {},
   "source": [
    "#### Filtering Data"
   ]
  },
  {
   "cell_type": "code",
   "execution_count": 3,
   "id": "7e5aca4b",
   "metadata": {},
   "outputs": [
    {
     "data": {
      "text/plain": [
       "(5934, 10)"
      ]
     },
     "execution_count": 3,
     "metadata": {},
     "output_type": "execute_result"
    }
   ],
   "source": [
    "n=4\n",
    "df2 = df[::n]\n",
    "df2.shape"
   ]
  },
  {
   "cell_type": "code",
   "execution_count": 4,
   "id": "d8f2cb66",
   "metadata": {},
   "outputs": [
    {
     "data": {
      "text/plain": [
       "(1330, 10)"
      ]
     },
     "execution_count": 4,
     "metadata": {},
     "output_type": "execute_result"
    }
   ],
   "source": [
    "df_filt = df2.dropna()\n",
    "df_filt.shape"
   ]
  },
  {
   "cell_type": "code",
   "execution_count": 5,
   "id": "380f0849",
   "metadata": {},
   "outputs": [
    {
     "data": {
      "text/html": [
       "<div>\n",
       "<style scoped>\n",
       "    .dataframe tbody tr th:only-of-type {\n",
       "        vertical-align: middle;\n",
       "    }\n",
       "\n",
       "    .dataframe tbody tr th {\n",
       "        vertical-align: top;\n",
       "    }\n",
       "\n",
       "    .dataframe thead th {\n",
       "        text-align: right;\n",
       "    }\n",
       "</style>\n",
       "<table border=\"1\" class=\"dataframe\">\n",
       "  <thead>\n",
       "    <tr style=\"text-align: right;\">\n",
       "      <th></th>\n",
       "      <th>MD</th>\n",
       "      <th>CALI</th>\n",
       "      <th>DT</th>\n",
       "      <th>GR</th>\n",
       "      <th>NPHI</th>\n",
       "      <th>RHOB</th>\n",
       "      <th>PHIF</th>\n",
       "      <th>SW</th>\n",
       "      <th>RACEHM_LOG</th>\n",
       "    </tr>\n",
       "    <tr>\n",
       "      <th>wellName</th>\n",
       "      <th></th>\n",
       "      <th></th>\n",
       "      <th></th>\n",
       "      <th></th>\n",
       "      <th></th>\n",
       "      <th></th>\n",
       "      <th></th>\n",
       "      <th></th>\n",
       "      <th></th>\n",
       "    </tr>\n",
       "  </thead>\n",
       "  <tbody>\n",
       "    <tr>\n",
       "      <th>15/9-F-1 A</th>\n",
       "      <td>2099</td>\n",
       "      <td>2099</td>\n",
       "      <td>2099</td>\n",
       "      <td>2099</td>\n",
       "      <td>2099</td>\n",
       "      <td>2099</td>\n",
       "      <td>2099</td>\n",
       "      <td>2099</td>\n",
       "      <td>2099</td>\n",
       "    </tr>\n",
       "    <tr>\n",
       "      <th>15/9-F-1 B</th>\n",
       "      <td>1903</td>\n",
       "      <td>1903</td>\n",
       "      <td>1903</td>\n",
       "      <td>1903</td>\n",
       "      <td>1903</td>\n",
       "      <td>1903</td>\n",
       "      <td>1903</td>\n",
       "      <td>1903</td>\n",
       "      <td>1903</td>\n",
       "    </tr>\n",
       "    <tr>\n",
       "      <th>15/9-F-1 C</th>\n",
       "      <td>7631</td>\n",
       "      <td>7631</td>\n",
       "      <td>0</td>\n",
       "      <td>7631</td>\n",
       "      <td>7631</td>\n",
       "      <td>7631</td>\n",
       "      <td>7630</td>\n",
       "      <td>7630</td>\n",
       "      <td>7631</td>\n",
       "    </tr>\n",
       "    <tr>\n",
       "      <th>15/9-F-11 A</th>\n",
       "      <td>1402</td>\n",
       "      <td>1402</td>\n",
       "      <td>1402</td>\n",
       "      <td>1402</td>\n",
       "      <td>1402</td>\n",
       "      <td>1402</td>\n",
       "      <td>1321</td>\n",
       "      <td>1321</td>\n",
       "      <td>1402</td>\n",
       "    </tr>\n",
       "    <tr>\n",
       "      <th>15/9-F-11 B</th>\n",
       "      <td>10698</td>\n",
       "      <td>10698</td>\n",
       "      <td>0</td>\n",
       "      <td>10698</td>\n",
       "      <td>10698</td>\n",
       "      <td>10698</td>\n",
       "      <td>10698</td>\n",
       "      <td>10698</td>\n",
       "      <td>10698</td>\n",
       "    </tr>\n",
       "  </tbody>\n",
       "</table>\n",
       "</div>"
      ],
      "text/plain": [
       "                MD   CALI    DT     GR   NPHI   RHOB   PHIF     SW  RACEHM_LOG\n",
       "wellName                                                                      \n",
       "15/9-F-1 A    2099   2099  2099   2099   2099   2099   2099   2099        2099\n",
       "15/9-F-1 B    1903   1903  1903   1903   1903   1903   1903   1903        1903\n",
       "15/9-F-1 C    7631   7631     0   7631   7631   7631   7630   7630        7631\n",
       "15/9-F-11 A   1402   1402  1402   1402   1402   1402   1321   1321        1402\n",
       "15/9-F-11 B  10698  10698     0  10698  10698  10698  10698  10698       10698"
      ]
     },
     "execution_count": 5,
     "metadata": {},
     "output_type": "execute_result"
    }
   ],
   "source": [
    "df.groupby('wellName').count()"
   ]
  },
  {
   "cell_type": "code",
   "execution_count": 6,
   "id": "acfc4e99",
   "metadata": {},
   "outputs": [
    {
     "data": {
      "text/html": [
       "<div>\n",
       "<style scoped>\n",
       "    .dataframe tbody tr th:only-of-type {\n",
       "        vertical-align: middle;\n",
       "    }\n",
       "\n",
       "    .dataframe tbody tr th {\n",
       "        vertical-align: top;\n",
       "    }\n",
       "\n",
       "    .dataframe thead th {\n",
       "        text-align: right;\n",
       "    }\n",
       "</style>\n",
       "<table border=\"1\" class=\"dataframe\">\n",
       "  <thead>\n",
       "    <tr style=\"text-align: right;\">\n",
       "      <th></th>\n",
       "      <th>MD</th>\n",
       "      <th>CALI</th>\n",
       "      <th>DT</th>\n",
       "      <th>GR</th>\n",
       "      <th>NPHI</th>\n",
       "      <th>RHOB</th>\n",
       "      <th>PHIF</th>\n",
       "      <th>SW</th>\n",
       "      <th>RACEHM_LOG</th>\n",
       "    </tr>\n",
       "    <tr>\n",
       "      <th>wellName</th>\n",
       "      <th></th>\n",
       "      <th></th>\n",
       "      <th></th>\n",
       "      <th></th>\n",
       "      <th></th>\n",
       "      <th></th>\n",
       "      <th></th>\n",
       "      <th></th>\n",
       "      <th></th>\n",
       "    </tr>\n",
       "  </thead>\n",
       "  <tbody>\n",
       "    <tr>\n",
       "      <th>15/9-F-1 A</th>\n",
       "      <td>525</td>\n",
       "      <td>525</td>\n",
       "      <td>525</td>\n",
       "      <td>525</td>\n",
       "      <td>525</td>\n",
       "      <td>525</td>\n",
       "      <td>525</td>\n",
       "      <td>525</td>\n",
       "      <td>525</td>\n",
       "    </tr>\n",
       "    <tr>\n",
       "      <th>15/9-F-1 B</th>\n",
       "      <td>476</td>\n",
       "      <td>476</td>\n",
       "      <td>476</td>\n",
       "      <td>476</td>\n",
       "      <td>476</td>\n",
       "      <td>476</td>\n",
       "      <td>476</td>\n",
       "      <td>476</td>\n",
       "      <td>476</td>\n",
       "    </tr>\n",
       "    <tr>\n",
       "      <th>15/9-F-1 C</th>\n",
       "      <td>1908</td>\n",
       "      <td>1908</td>\n",
       "      <td>0</td>\n",
       "      <td>1908</td>\n",
       "      <td>1908</td>\n",
       "      <td>1908</td>\n",
       "      <td>1908</td>\n",
       "      <td>1908</td>\n",
       "      <td>1908</td>\n",
       "    </tr>\n",
       "    <tr>\n",
       "      <th>15/9-F-11 A</th>\n",
       "      <td>350</td>\n",
       "      <td>350</td>\n",
       "      <td>350</td>\n",
       "      <td>350</td>\n",
       "      <td>350</td>\n",
       "      <td>350</td>\n",
       "      <td>329</td>\n",
       "      <td>329</td>\n",
       "      <td>350</td>\n",
       "    </tr>\n",
       "    <tr>\n",
       "      <th>15/9-F-11 B</th>\n",
       "      <td>2675</td>\n",
       "      <td>2675</td>\n",
       "      <td>0</td>\n",
       "      <td>2675</td>\n",
       "      <td>2675</td>\n",
       "      <td>2675</td>\n",
       "      <td>2675</td>\n",
       "      <td>2675</td>\n",
       "      <td>2675</td>\n",
       "    </tr>\n",
       "  </tbody>\n",
       "</table>\n",
       "</div>"
      ],
      "text/plain": [
       "               MD  CALI   DT    GR  NPHI  RHOB  PHIF    SW  RACEHM_LOG\n",
       "wellName                                                              \n",
       "15/9-F-1 A    525   525  525   525   525   525   525   525         525\n",
       "15/9-F-1 B    476   476  476   476   476   476   476   476         476\n",
       "15/9-F-1 C   1908  1908    0  1908  1908  1908  1908  1908        1908\n",
       "15/9-F-11 A   350   350  350   350   350   350   329   329         350\n",
       "15/9-F-11 B  2675  2675    0  2675  2675  2675  2675  2675        2675"
      ]
     },
     "execution_count": 6,
     "metadata": {},
     "output_type": "execute_result"
    }
   ],
   "source": [
    "df2.groupby('wellName').count()"
   ]
  },
  {
   "cell_type": "code",
   "execution_count": 7,
   "id": "2719ffe8",
   "metadata": {},
   "outputs": [
    {
     "data": {
      "text/html": [
       "<div>\n",
       "<style scoped>\n",
       "    .dataframe tbody tr th:only-of-type {\n",
       "        vertical-align: middle;\n",
       "    }\n",
       "\n",
       "    .dataframe tbody tr th {\n",
       "        vertical-align: top;\n",
       "    }\n",
       "\n",
       "    .dataframe thead th {\n",
       "        text-align: right;\n",
       "    }\n",
       "</style>\n",
       "<table border=\"1\" class=\"dataframe\">\n",
       "  <thead>\n",
       "    <tr style=\"text-align: right;\">\n",
       "      <th></th>\n",
       "      <th>MD</th>\n",
       "      <th>CALI</th>\n",
       "      <th>DT</th>\n",
       "      <th>GR</th>\n",
       "      <th>NPHI</th>\n",
       "      <th>RHOB</th>\n",
       "      <th>PHIF</th>\n",
       "      <th>SW</th>\n",
       "      <th>RACEHM_LOG</th>\n",
       "    </tr>\n",
       "    <tr>\n",
       "      <th>wellName</th>\n",
       "      <th></th>\n",
       "      <th></th>\n",
       "      <th></th>\n",
       "      <th></th>\n",
       "      <th></th>\n",
       "      <th></th>\n",
       "      <th></th>\n",
       "      <th></th>\n",
       "      <th></th>\n",
       "    </tr>\n",
       "  </thead>\n",
       "  <tbody>\n",
       "    <tr>\n",
       "      <th>15/9-F-1 A</th>\n",
       "      <td>525</td>\n",
       "      <td>525</td>\n",
       "      <td>525</td>\n",
       "      <td>525</td>\n",
       "      <td>525</td>\n",
       "      <td>525</td>\n",
       "      <td>525</td>\n",
       "      <td>525</td>\n",
       "      <td>525</td>\n",
       "    </tr>\n",
       "    <tr>\n",
       "      <th>15/9-F-1 B</th>\n",
       "      <td>476</td>\n",
       "      <td>476</td>\n",
       "      <td>476</td>\n",
       "      <td>476</td>\n",
       "      <td>476</td>\n",
       "      <td>476</td>\n",
       "      <td>476</td>\n",
       "      <td>476</td>\n",
       "      <td>476</td>\n",
       "    </tr>\n",
       "    <tr>\n",
       "      <th>15/9-F-11 A</th>\n",
       "      <td>329</td>\n",
       "      <td>329</td>\n",
       "      <td>329</td>\n",
       "      <td>329</td>\n",
       "      <td>329</td>\n",
       "      <td>329</td>\n",
       "      <td>329</td>\n",
       "      <td>329</td>\n",
       "      <td>329</td>\n",
       "    </tr>\n",
       "  </tbody>\n",
       "</table>\n",
       "</div>"
      ],
      "text/plain": [
       "              MD  CALI   DT   GR  NPHI  RHOB  PHIF   SW  RACEHM_LOG\n",
       "wellName                                                           \n",
       "15/9-F-1 A   525   525  525  525   525   525   525  525         525\n",
       "15/9-F-1 B   476   476  476  476   476   476   476  476         476\n",
       "15/9-F-11 A  329   329  329  329   329   329   329  329         329"
      ]
     },
     "execution_count": 7,
     "metadata": {},
     "output_type": "execute_result"
    }
   ],
   "source": [
    "df_filt.groupby('wellName').count()"
   ]
  },
  {
   "cell_type": "markdown",
   "id": "c5967b85",
   "metadata": {},
   "source": [
    "### Treinando modelo de ML para prever DT"
   ]
  },
  {
   "cell_type": "markdown",
   "id": "1760adca",
   "metadata": {},
   "source": [
    "#### Definindo a parcela de treino e de teste"
   ]
  },
  {
   "cell_type": "code",
   "execution_count": 8,
   "id": "8fd184c5",
   "metadata": {},
   "outputs": [],
   "source": [
    "training_wells = ['15/9-F-11 A', '15/9-F-1 A']\n",
    "test_wells = ['15/9-F-1 B']\n",
    "nodata_wells = ['15/9-F-11 B', '15/9-F-1 C'] #poços sem a informação de DT"
   ]
  },
  {
   "cell_type": "code",
   "execution_count": 9,
   "id": "62137b19",
   "metadata": {},
   "outputs": [],
   "source": [
    "train_df = df_filt[df_filt['wellName'].isin(training_wells)]\n",
    "test_df = df_filt[df_filt['wellName'].isin(test_wells)]\n",
    "nodata_df = df_filt[df_filt['wellName'].isin(nodata_wells)]"
   ]
  },
  {
   "cell_type": "markdown",
   "id": "8e7b9994",
   "metadata": {},
   "source": [
    "#### Selecionando variáveis de entrada e saída"
   ]
  },
  {
   "cell_type": "code",
   "execution_count": 11,
   "id": "d3a3976f",
   "metadata": {},
   "outputs": [],
   "source": [
    "inputs = [\n",
    "    # 'CALI',\n",
    "    'DT',\n",
    "    'GR',\n",
    "    'NPHI',\n",
    "    # 'RHOB',\n",
    "    # 'PHIF',\n",
    "    'SW',\n",
    "    'RACEHM_LOG'\n",
    "    ]\n",
    "\n",
    "output = ['RHOB']"
   ]
  },
  {
   "cell_type": "code",
   "execution_count": 12,
   "id": "785c772b",
   "metadata": {},
   "outputs": [
    {
     "data": {
      "text/plain": [
       "(Index(['DT', 'GR', 'NPHI', 'SW', 'RACEHM_LOG'], dtype='object'),\n",
       " Index(['RHOB'], dtype='object'))"
      ]
     },
     "execution_count": 12,
     "metadata": {},
     "output_type": "execute_result"
    }
   ],
   "source": [
    "X_tr = train_df[inputs]\n",
    "y_tr = train_df[output]\n",
    "X_tr.columns, y_tr.columns"
   ]
  },
  {
   "cell_type": "code",
   "execution_count": 13,
   "id": "be09d11d",
   "metadata": {},
   "outputs": [
    {
     "data": {
      "text/plain": [
       "(Index(['DT', 'GR', 'NPHI', 'SW', 'RACEHM_LOG'], dtype='object'),\n",
       " Index(['RHOB'], dtype='object'))"
      ]
     },
     "execution_count": 13,
     "metadata": {},
     "output_type": "execute_result"
    }
   ],
   "source": [
    "X_te = test_df[inputs]\n",
    "y_te = test_df[output]\n",
    "X_te.columns, y_te.columns"
   ]
  },
  {
   "cell_type": "code",
   "execution_count": 14,
   "id": "0e4d8252",
   "metadata": {},
   "outputs": [
    {
     "data": {
      "text/plain": [
       "((854, 5), (854, 1), (476, 5), (476, 1))"
      ]
     },
     "execution_count": 14,
     "metadata": {},
     "output_type": "execute_result"
    }
   ],
   "source": [
    "X_tr.shape,y_tr.shape,X_te.shape,y_te.shape"
   ]
  },
  {
   "cell_type": "code",
   "execution_count": 15,
   "id": "309de508",
   "metadata": {},
   "outputs": [],
   "source": [
    "X_tr = X_tr.values\n",
    "X_te = X_te.values\n",
    "y_tr = y_tr.values\n",
    "y_te = y_te.values"
   ]
  },
  {
   "cell_type": "markdown",
   "id": "981d0439",
   "metadata": {},
   "source": [
    "#### Normalizando dados MinMax"
   ]
  },
  {
   "cell_type": "code",
   "execution_count": 16,
   "id": "9ce9c785",
   "metadata": {},
   "outputs": [],
   "source": [
    "Xtr_scaler = MinMaxScaler()\n",
    "ytr_scaler = MinMaxScaler()\n",
    "Xte_scaler = MinMaxScaler()\n",
    "yte_scaler = MinMaxScaler()\n",
    "X_tr = Xtr_scaler.fit_transform(X_tr)\n",
    "X_te = Xte_scaler.fit_transform(X_te)\n",
    "y_tr = ytr_scaler.fit_transform(y_tr)\n",
    "y_te = yte_scaler.fit_transform(y_te)"
   ]
  },
  {
   "cell_type": "markdown",
   "id": "0bd826c8",
   "metadata": {},
   "source": [
    "Random State"
   ]
  },
  {
   "cell_type": "code",
   "execution_count": 17,
   "id": "eede0cdb",
   "metadata": {},
   "outputs": [],
   "source": [
    "rs=48"
   ]
  },
  {
   "cell_type": "markdown",
   "id": "7aba33b9",
   "metadata": {},
   "source": [
    "#### Declarando os Modelos ML"
   ]
  },
  {
   "cell_type": "code",
   "execution_count": 18,
   "id": "ae7196b8",
   "metadata": {},
   "outputs": [],
   "source": [
    "models_ml = [\n",
    "    ('Linear'   ,'LinReg'              ,      LinearRegression(copy_X=True)), #ARX Equivalet\n",
    "    ('NonLinear','PolyReg'             ,      Pipeline([('Poly', PolynomialFeatures(degree=2)), ('Reg', LinearRegression(copy_X=True))])), #NARX Equivale)t\n",
    "    ('NonLinear','SVM'                 ,      SVR(max_iter=-1)),\n",
    "    ('NonLinear','KNN'                 ,      KNeighborsRegressor()),\n",
    "    ('NonLinear','MLP'                 ,      MLPRegressor(random_state=rs)),\n",
    "    ('Ensembles','DecisionTree'        ,      DecisionTreeRegressor(random_state=rs)),\n",
    "    ('Ensembles','RandomForest'        ,      RandomForestRegressor(random_state=rs)),\n",
    "    ('Ensembles','GradientBoosting'    ,      GradientBoostingRegressor(random_state=rs)),\n",
    "    ('Ensembles','ExtraTrees'          ,      ExtraTreesRegressor(random_state=rs)),\n",
    "    ('Ensembles','AdaBoostRegressor'   ,      AdaBoostRegressor(random_state=rs)),\n",
    "    ('Ensembles','BaggingRegressor'    ,      BaggingRegressor(random_state=rs)),\n",
    "    # ('Ensembles','LightGBM'            ,      lgb.LGBMRegressor()),\n",
    "    ('Ensembles','XGBoost'             ,      xgb.XGBRegressor()),\n",
    "]\n"
   ]
  },
  {
   "cell_type": "code",
   "execution_count": 19,
   "id": "6e80359c",
   "metadata": {},
   "outputs": [
    {
     "name": "stdout",
     "output_type": "stream",
     "text": [
      "0 LinearRegression()\n",
      "1 Pipeline(steps=[('Poly', PolynomialFeatures()), ('Reg', LinearRegression())])\n",
      "2 SVR()\n",
      "3 KNeighborsRegressor()\n",
      "4 MLPRegressor(random_state=48)\n",
      "5 DecisionTreeRegressor(random_state=48)\n",
      "6 RandomForestRegressor(random_state=48)\n",
      "7 GradientBoostingRegressor(random_state=48)\n",
      "8 ExtraTreesRegressor(random_state=48)\n",
      "9 AdaBoostRegressor(random_state=48)\n",
      "10 BaggingRegressor(random_state=48)\n",
      "11 XGBRegressor(base_score=None, booster=None, callbacks=None,\n",
      "             colsample_bylevel=None, colsample_bynode=None,\n",
      "             colsample_bytree=None, device=None, early_stopping_rounds=None,\n",
      "             enable_categorical=False, eval_metric=None, feature_types=None,\n",
      "             gamma=None, grow_policy=None, importance_type=None,\n",
      "             interaction_constraints=None, learning_rate=None, max_bin=None,\n",
      "             max_cat_threshold=None, max_cat_to_onehot=None,\n",
      "             max_delta_step=None, max_depth=None, max_leaves=None,\n",
      "             min_child_weight=None, missing=nan, monotone_constraints=None,\n",
      "             multi_strategy=None, n_estimators=None, n_jobs=None,\n",
      "             num_parallel_tree=None, random_state=None, ...)\n"
     ]
    }
   ],
   "source": [
    "for i, m in enumerate(models_ml):\n",
    "    print (i, m[2])"
   ]
  },
  {
   "cell_type": "markdown",
   "id": "ecc602e4",
   "metadata": {},
   "source": [
    "#### Parâmetros (RandomSearchCV)"
   ]
  },
  {
   "cell_type": "code",
   "execution_count": 20,
   "id": "f86bf48b",
   "metadata": {},
   "outputs": [],
   "source": [
    "parameters = [\n",
    "    { # LinReg 0\n",
    "        #'PCA__n_components'           : stats.uniform(loc=0.7, scale=0.3),\n",
    "        'positive'                     : [True, False],\n",
    "        #'expansor'                    : [None, PolynomialFeatures(degree=2)],\n",
    "        #'nX'                          : stats.randint(2,10),\n",
    "        #'ny'                          : stats.randint(2,10),\n",
    "    },\n",
    "    { # PolyReg NARX 1\n",
    "        #'PCA__n_components'           : stats.uniform(loc=0.7, scale=0.3),\n",
    "        'Reg__positive'                : [True, False],\n",
    "        #'Poly__degree'                : [2, 3, 4, 5],\n",
    "        #'expansor'                    : [None, PolynomialFeatures(degree=2)],\n",
    "        #'nX'                          : stats.randint(2,10),\n",
    "        #'ny'                          : stats.randint(2,10),\n",
    "    },\n",
    "    { # SVM 2\n",
    "        #'PCA__n_components'          : stats.uniform(loc=0.7, scale=0.3),\n",
    "        'C'                     : stats.loguniform(1e-3, 1e3),\n",
    "        'kernel'                : ['poly', 'rbf', 'sigmoid'],\n",
    "        'degree'                : stats.randint(2,6),\n",
    "        'gamma'                 : stats.loguniform(1e-4, 1e0),\n",
    "        #'expansor'                    : [None, PolynomialFeatures(degree=2)],\n",
    "        #'nX'                          : stats.randint(2,10),\n",
    "        #'ny'                          : stats.randint(2,10),\n",
    "    },\n",
    "    { # KNN 3\n",
    "        #'PCA__n_components'          : stats.uniform(loc=0.7, scale=0.3),\n",
    "        'n_neighbors'           : stats.randint(1,100),\n",
    "        'weights'               : ['uniform', 'distance'],\n",
    "        #'expansor'                    : [None, PolynomialFeatures(degree=2)],\n",
    "        #'nX'                          : stats.randint(2,10),\n",
    "        #'ny'                          : stats.randint(2,10),\n",
    "    },\n",
    "    { # MLP 6\n",
    "        'activation'            : ['relu', 'tanh'],\n",
    "        'early_stopping'        : [True],\n",
    "        'learning_rate_init'    : stats.loguniform(1e-4, 0.01),\n",
    "        # 'learning_rate'         : ['adaptive', 'constant'],\n",
    "        'alpha'                 : stats.loguniform(1e-5, 1e-3),\n",
    "        'hidden_layer_sizes'    : []\n",
    "        + [n_neurons for n_neurons in itertools.product([20, 60, 100], repeat=1)]\n",
    "        + [n_neurons for n_neurons in itertools.product([20, 60, 100], repeat=2)]\n",
    "        + [n_neurons for n_neurons in itertools.product([20, 60, 100], repeat=3)],\n",
    "        # + [n_neurons for n_neurons in itertools.product([20, 60, 100], repeat=4)],\n",
    "        # 'max_iter'              : [10000],#stats.randint(200,10000),\n",
    "        # 'batch_size'            : [32],\n",
    "        # 'solver'                : ['adam'], #'lbfgs'],\n",
    "        'tol'                   : stats.loguniform(1e-7, 1e-1),\n",
    "    },\n",
    "    { # DecisionTree 7\n",
    "        #'PCA__n_components'          : stats.uniform(loc=0.7, scale=0.3),\n",
    "        #'DT__criterion'              : ['gini', 'entropy'],\n",
    "        'splitter'               : ['best', 'random'],\n",
    "        'max_depth'              : stats.randint(5,20), #maxima profundidade da arvore\n",
    "        'min_samples_split'      : stats.randint(2,20), #minima quantidade de amostras para splitar\n",
    "        'min_samples_leaf'       : stats.randint(1,20), #minima quantidade de amostras por folha\n",
    "        'max_features'           : stats.uniform(),      #maxima quantidade de features para embasar a decisao de divisao\n",
    "        'max_leaf_nodes'         : stats.randint(10,150), #maxima quantidade de folhas\n",
    "        #'expansor'                    : [None, PolynomialFeatures(degree=2)],\n",
    "        #'nX'                          : stats.randint(2,10),\n",
    "        #'ny'                          : stats.randint(2,10),\n",
    "    },\n",
    "    { # RandomForest 8\n",
    "        #'PCA__n_components'          : stats.uniform(loc=0.7, scale=0.3),\n",
    "        'n_estimators'           : stats.randint(5,100), #Numero de arvores\n",
    "        #'RF__criterion'              : ['gini', 'entropy'],\n",
    "        'max_depth'              : stats.randint(1,20), #maxima profundidade da arvore\n",
    "        'min_samples_split'      : stats.randint(2,20), #minima quantidade de amostras para splitar\n",
    "        'min_samples_leaf'       : stats.randint(1,20), #minima quantidade de amostras por folha\n",
    "        'max_features'           : stats.uniform(),      #maxima quantidade de features para embasar a decisao de divisao\n",
    "        'max_leaf_nodes'         : stats.randint(10,150), #maxima quantidade de folhas\n",
    "        #'expansor'                    : [None, PolynomialFeatures(degree=2)],\n",
    "        #'nX'                          : stats.randint(2,10),\n",
    "        #'ny'                          : stats.randint(2,10),\n",
    "    },\n",
    "    { # GradientBoosting 9\n",
    "        #'PCA__n_components'          : stats.uniform(loc=0.7, scale=0.3),\n",
    "        'n_estimators'           : stats.randint(5,100), #Numero de arvores\n",
    "        'loss'                   : ['squared_error', 'absolute_error', 'huber', 'quantile'],\n",
    "        'learning_rate'          : stats.loguniform(1e-5, 1e1),\n",
    "        'criterion'              : ['friedman_mse', 'squared_error'],\n",
    "        'subsample'              : stats.uniform(),\n",
    "        #'RF__criterion'              : ['gini', 'entropy'],\n",
    "        'max_depth'              : stats.randint(1,20), #maxima profundidade da arvore\n",
    "        'min_samples_split'      : stats.randint(2,20), #minima quantidade de amostras para splitar\n",
    "        'min_samples_leaf'       : stats.randint(1,20), #minima quantidade de amostras por folha\n",
    "        'max_features'           : stats.uniform(),      #maxima quantidade de features para embasar a decisao de divisao\n",
    "        'max_leaf_nodes'         : stats.randint(10,150), #maxima quantidade de folhas\n",
    "        #'expansor'                    : [None, PolynomialFeatures(degree=2)],\n",
    "        #'nX'                          : stats.randint(2,10),\n",
    "        #'ny'                          : stats.randint(2,10),\n",
    "    },\n",
    "    { # ExtraTrees 10\n",
    "        #'PCA__n_components'          : stats.uniform(loc=0.7, scale=0.3),\n",
    "        'n_estimators'           : stats.randint(5,100), #Numero de arvores\n",
    "        'criterion'              : ['squared_error', 'absolute_error'],\n",
    "        #'RF__criterion'              : ['gini', 'entropy'],\n",
    "        'max_depth'              : stats.randint(1,20), #maxima profundidade da arvore\n",
    "        'min_samples_split'      : stats.randint(2,20), #minima quantidade de amostras para splitar\n",
    "        'min_samples_leaf'       : stats.randint(1,20), #minima quantidade de amostras por folha\n",
    "        'max_features'           : stats.uniform(),      #maxima quantidade de features para embasar a decisao de divisao\n",
    "        #'expansor'                    : [None, PolynomialFeatures(degree=2)],\n",
    "        #'nX'                          : stats.randint(2,10),\n",
    "        #'ny'                          : stats.randint(2,10),\n",
    "    },\n",
    "    { # AdaBoostRegressor 11\n",
    "        'n_estimators'              : stats.randint(5,100), #Numero de arvores\n",
    "        'learning_rate'             : stats.loguniform(1e-3, 10),\n",
    "        'loss'                      : ['linear', 'square', 'exponential'],\n",
    "    },\n",
    "    { # BaggingRegressor 12\n",
    "        'n_estimators'              : stats.randint(5,100), #Numero de arvores\n",
    "        'max_samples'               : stats.uniform(),      #maxima quantidade de features para embasar a decisao de divisao\n",
    "        'max_features'              : stats.uniform(),      #maxima quantidade de features para embasar a decisao de divisao\n",
    "        'bootstrap'                 : [True, False],      #maxima quantidade de features para embasar a decisao de divisao\n",
    "    },\n",
    "    # { # LightGBM 13\n",
    "    #     'num_leaves'                : stats.randint(5,100), # max num folhas dos base learners\n",
    "    #     'n_estimators'              : stats.randint(10,200), #Numero de arvores\n",
    "    #     'learning_rate'             : stats.loguniform(1e-3, 1),\n",
    "    #     # 'max_depth'                 : stats.randint(1,20), #maxima profundidade da arvore\n",
    "    # },\n",
    "    { # XGBoost 14\n",
    "        'n_estimators'           : stats.randint(2,100), #Numero de arvores\n",
    "        'max_depth'              : stats.randint(1,20), #maxima profundidade da arvore\n",
    "        'learning_rate'          : stats.loguniform(1e-3, 1),\n",
    "    },\n",
    "]\n",
    "# parameters"
   ]
  },
  {
   "cell_type": "code",
   "execution_count": 21,
   "id": "84938238",
   "metadata": {},
   "outputs": [
    {
     "data": {
      "text/plain": [
       "RepeatedKFold(n_repeats=10, n_splits=5, random_state=48)"
      ]
     },
     "execution_count": 21,
     "metadata": {},
     "output_type": "execute_result"
    }
   ],
   "source": [
    "kfolds = 5\n",
    "niters = 10\n",
    "rkf = RepeatedKFold(n_splits=kfolds, n_repeats=niters, random_state=rs)\n",
    "rkf"
   ]
  },
  {
   "cell_type": "markdown",
   "id": "3a3e261d",
   "metadata": {},
   "source": [
    "#### Random Search"
   ]
  },
  {
   "cell_type": "code",
   "execution_count": 22,
   "id": "75ac6c1a",
   "metadata": {},
   "outputs": [],
   "source": [
    "n_iter = 100 #Numero de iterações do rdmsearch\n",
    "models=[]\n",
    "for model, params in zip(models_ml, parameters):\n",
    "    rdmsearch = RandomizedSearchCV(model[2], verbose=0, scoring='r2',\n",
    "                                   param_distributions=params, n_iter=n_iter, n_jobs=6,\n",
    "                                   cv=rkf, random_state=rs)\n",
    "\n",
    "    models.append(\n",
    "        # (model[0], model[1], rdmsearch)\n",
    "        (model[1], model[2], rdmsearch, model[0])\n",
    "    )\n",
    "\n",
    "# models"
   ]
  },
  {
   "cell_type": "markdown",
   "id": "b0f1682a",
   "metadata": {},
   "source": [
    "#### Looping de Treinamento"
   ]
  },
  {
   "cell_type": "code",
   "execution_count": 23,
   "id": "b54fa598",
   "metadata": {},
   "outputs": [
    {
     "name": "stdout",
     "output_type": "stream",
     "text": [
      "LinReg  R2(TR,TE)=0.836->0.740 / MAE(TR,TE)=0.051->0.056-------------------Best! 0.74\n",
      "PolyReg  R2(TR,TE)=0.909->0.833 / MAE(TR,TE)=0.040->0.042-------------------Best! 0.83\n",
      "SVM  R2(TR,TE)=0.884->0.800 / MAE(TR,TE)=0.051->0.048\n",
      "KNN  R2(TR,TE)=1.000->0.795 / MAE(TR,TE)=0.000->0.052\n",
      "MLP  R2(TR,TE)=0.925->0.806 / MAE(TR,TE)=0.038->0.049\n",
      "DecisionTree  R2(TR,TE)=0.960->0.554 / MAE(TR,TE)=0.026->0.065\n",
      "RandomForest  R2(TR,TE)=0.976->0.737 / MAE(TR,TE)=0.020->0.055\n",
      "GradientBoosting  R2(TR,TE)=0.989->0.761 / MAE(TR,TE)=0.014->0.054\n",
      "ExtraTrees  R2(TR,TE)=0.950->0.798 / MAE(TR,TE)=0.030->0.050\n",
      "AdaBoostRegressor  R2(TR,TE)=0.889->0.643 / MAE(TR,TE)=0.051->0.072\n",
      "BaggingRegressor  R2(TR,TE)=0.982->0.710 / MAE(TR,TE)=0.017->0.060\n",
      "XGBoost  R2(TR,TE)=0.974->0.778 / MAE(TR,TE)=0.021->0.050\n"
     ]
    }
   ],
   "source": [
    "res_dict = {\n",
    "    'MODEL':[],\n",
    "    'R2_TR':[],\n",
    "    'R2_TE':[],\n",
    "    'MAE_TR':[],\n",
    "    'MAE_TE':[],\n",
    "    'MODEL_OBJ':[],\n",
    "}\n",
    "\n",
    "base_estimators_lin_nonLin = []\n",
    "base_estimators = []\n",
    "\n",
    "best_r2 = 0\n",
    "t00 = datetime.now()\n",
    "for model in models:\n",
    "    t0 = datetime.now()\n",
    "    model_name, model_estim, model_instance, model_class = model\n",
    "    print(f'{model_name}  ',end='')\n",
    "\n",
    "    with warnings.catch_warnings():\n",
    "        warnings.simplefilter(\"ignore\")\n",
    "    model_instance.fit(X=X_tr, y=y_tr);\n",
    "\n",
    "    y_hat_tr = model_instance.predict(X_tr)\n",
    "    y_hat_te = model_instance.predict(X_te)\n",
    "    r2_tr = r2_score(y_tr, y_hat_tr)\n",
    "    r2_te = r2_score(y_te, y_hat_te)\n",
    "    mae_tr = mean_absolute_error(y_tr, y_hat_tr)\n",
    "    mae_te = mean_absolute_error(y_te, y_hat_te)\n",
    "\n",
    "    res_dict['MODEL'].append(model_name)\n",
    "    res_dict['R2_TR'].append(r2_tr)\n",
    "    res_dict['R2_TE'].append(r2_te)\n",
    "    res_dict['MAE_TR'].append(mae_tr)\n",
    "    res_dict['MAE_TE'].append(mae_te)\n",
    "    res_dict['MODEL_OBJ'].append(deepcopy(model_instance))\n",
    "\n",
    "    print(f'R2(TR,TE)={r2_tr:.3f}->{r2_te:.3f} / MAE(TR,TE)={mae_tr:.3f}->{mae_te:.3f}', end='')\n",
    "    if r2_te>best_r2:\n",
    "        best_r2=r2_te\n",
    "        print(f'-------------------Best! {best_r2:.2f}')\n",
    "    else:\n",
    "        print()\n",
    "\n",
    "    # stacking select base estimators, lin+nonlin or all\n",
    "    base_estimators.append((model_name, model_instance.best_estimator_))\n",
    "    if (model_class in ['Linear','NonLinear']):\n",
    "        base_estimators_lin_nonLin.append((model_name, model_instance.best_estimator_))\n"
   ]
  },
  {
   "cell_type": "markdown",
   "id": "5e1bf907",
   "metadata": {},
   "source": [
    "#### Treinando stacking ensembles"
   ]
  },
  {
   "cell_type": "code",
   "execution_count": 24,
   "id": "9526a994",
   "metadata": {},
   "outputs": [
    {
     "name": "stdout",
     "output_type": "stream",
     "text": [
      "0,LinReg\n",
      "\tR2(S1)=0.795, R2(S2)=0.795\n",
      "1,PolyReg\n",
      "\tR2(S1)=0.795, R2(S2)=0.795\n",
      "2,SVM\n",
      "\tR2(S1)=0.809, R2(S2)=0.757\n",
      "3,KNN\n",
      "\tR2(S1)=0.796, R2(S2)=0.760\n",
      "4,MLP\n",
      "\tR2(S1)=0.792, R2(S2)=0.790\n",
      "5,DecisionTree\n",
      "\tR2(S1)=0.791, R2(S2)=0.794\n",
      "6,RandomForest\n",
      "\tR2(S1)=0.796, R2(S2)=0.795\n",
      "7,GradientBoosting\n",
      "\tR2(S1)=0.794, R2(S2)=0.791\n"
     ]
    }
   ],
   "source": [
    "for regi,reg in enumerate(models_ml[:8]):\n",
    "    print(f'{regi},{reg[1]}')\n",
    "    rdmsearch_FR = RandomizedSearchCV(reg[2], verbose=0, scoring='r2',\n",
    "            param_distributions=parameters[regi], n_iter=100, n_jobs=10, cv=rkf, random_state=rs)\n",
    "\n",
    "    stack1 =  StackingRegressor(estimators=base_estimators_lin_nonLin,final_estimator=rdmsearch_FR,cv='prefit')\n",
    "    stack2 =  StackingRegressor(estimators=base_estimators,final_estimator=rdmsearch_FR,cv='prefit')\n",
    "\n",
    "    with warnings.catch_warnings():\n",
    "        warnings.simplefilter(\"ignore\")\n",
    "        stack1.fit(X=X_tr, y=y_tr)\n",
    "        stack2.fit(X=X_tr, y=y_tr)\n",
    "\n",
    "    r2_te = r2_score(y_te, stack1.predict(X_te))\n",
    "    print(f'\\tR2(S1)={r2_te:.3f}', end=', ')\n",
    "    res_dict['MODEL'].append(f'Stack1({reg[1]})')\n",
    "    res_dict['R2_TR'].append(r2_score(y_tr, stack1.predict(X_tr)))\n",
    "    res_dict['R2_TE'].append(r2_te)\n",
    "    res_dict['MAE_TR'].append(mean_absolute_error(y_tr, stack1.predict(X_tr)))\n",
    "    res_dict['MAE_TE'].append(mean_absolute_error(y_te, stack1.predict(X_te)))\n",
    "    res_dict['MODEL_OBJ'].append(deepcopy(stack1))\n",
    "\n",
    "    r2_te = r2_score(y_te, stack2.predict(X_te))\n",
    "    print(f'R2(S2)={r2_te:.3f}')\n",
    "    res_dict['MODEL'].append(f'Stack2({reg[1]})')\n",
    "    res_dict['R2_TR'].append(r2_score(y_tr, stack2.predict(X_tr)))\n",
    "    res_dict['R2_TE'].append(r2_te)\n",
    "    res_dict['MAE_TR'].append(mean_absolute_error(y_tr, stack2.predict(X_tr)))\n",
    "    res_dict['MAE_TE'].append(mean_absolute_error(y_te, stack2.predict(X_te)))\n",
    "    res_dict['MODEL_OBJ'].append(deepcopy(stack2))"
   ]
  },
  {
   "cell_type": "code",
   "execution_count": 25,
   "id": "72f0eeff",
   "metadata": {},
   "outputs": [
    {
     "data": {
      "text/html": [
       "<div>\n",
       "<style scoped>\n",
       "    .dataframe tbody tr th:only-of-type {\n",
       "        vertical-align: middle;\n",
       "    }\n",
       "\n",
       "    .dataframe tbody tr th {\n",
       "        vertical-align: top;\n",
       "    }\n",
       "\n",
       "    .dataframe thead th {\n",
       "        text-align: right;\n",
       "    }\n",
       "</style>\n",
       "<table border=\"1\" class=\"dataframe\">\n",
       "  <thead>\n",
       "    <tr style=\"text-align: right;\">\n",
       "      <th></th>\n",
       "      <th>MODEL</th>\n",
       "      <th>R2_TR</th>\n",
       "      <th>R2_TE</th>\n",
       "      <th>MAE_TR</th>\n",
       "      <th>MAE_TE</th>\n",
       "      <th>MODEL_OBJ</th>\n",
       "      <th>IN</th>\n",
       "      <th>OUT</th>\n",
       "    </tr>\n",
       "  </thead>\n",
       "  <tbody>\n",
       "    <tr>\n",
       "      <th>0</th>\n",
       "      <td>PolyReg</td>\n",
       "      <td>0.909091</td>\n",
       "      <td>0.833406</td>\n",
       "      <td>4.020307e-02</td>\n",
       "      <td>0.041501</td>\n",
       "      <td>RandomizedSearchCV(cv=RepeatedKFold(n_repeats=...</td>\n",
       "      <td>DT.GR.NPHI.SW.RACEHM_LOG</td>\n",
       "      <td>RHOB</td>\n",
       "    </tr>\n",
       "    <tr>\n",
       "      <th>1</th>\n",
       "      <td>Stack1(SVM)</td>\n",
       "      <td>0.965039</td>\n",
       "      <td>0.809308</td>\n",
       "      <td>2.702566e-02</td>\n",
       "      <td>0.048500</td>\n",
       "      <td>StackingRegressor(cv='prefit',\\n              ...</td>\n",
       "      <td>DT.GR.NPHI.SW.RACEHM_LOG</td>\n",
       "      <td>RHOB</td>\n",
       "    </tr>\n",
       "    <tr>\n",
       "      <th>2</th>\n",
       "      <td>MLP</td>\n",
       "      <td>0.925120</td>\n",
       "      <td>0.806355</td>\n",
       "      <td>3.754591e-02</td>\n",
       "      <td>0.049087</td>\n",
       "      <td>RandomizedSearchCV(cv=RepeatedKFold(n_repeats=...</td>\n",
       "      <td>DT.GR.NPHI.SW.RACEHM_LOG</td>\n",
       "      <td>RHOB</td>\n",
       "    </tr>\n",
       "    <tr>\n",
       "      <th>3</th>\n",
       "      <td>SVM</td>\n",
       "      <td>0.883563</td>\n",
       "      <td>0.799980</td>\n",
       "      <td>5.143841e-02</td>\n",
       "      <td>0.047569</td>\n",
       "      <td>RandomizedSearchCV(cv=RepeatedKFold(n_repeats=...</td>\n",
       "      <td>DT.GR.NPHI.SW.RACEHM_LOG</td>\n",
       "      <td>RHOB</td>\n",
       "    </tr>\n",
       "    <tr>\n",
       "      <th>4</th>\n",
       "      <td>ExtraTrees</td>\n",
       "      <td>0.950228</td>\n",
       "      <td>0.798039</td>\n",
       "      <td>2.960644e-02</td>\n",
       "      <td>0.049713</td>\n",
       "      <td>RandomizedSearchCV(cv=RepeatedKFold(n_repeats=...</td>\n",
       "      <td>DT.GR.NPHI.SW.RACEHM_LOG</td>\n",
       "      <td>RHOB</td>\n",
       "    </tr>\n",
       "    <tr>\n",
       "      <th>5</th>\n",
       "      <td>Stack1(RandomForest)</td>\n",
       "      <td>0.999744</td>\n",
       "      <td>0.796453</td>\n",
       "      <td>1.110088e-03</td>\n",
       "      <td>0.052149</td>\n",
       "      <td>StackingRegressor(cv='prefit',\\n              ...</td>\n",
       "      <td>DT.GR.NPHI.SW.RACEHM_LOG</td>\n",
       "      <td>RHOB</td>\n",
       "    </tr>\n",
       "    <tr>\n",
       "      <th>6</th>\n",
       "      <td>Stack1(KNN)</td>\n",
       "      <td>1.000000</td>\n",
       "      <td>0.795971</td>\n",
       "      <td>0.000000e+00</td>\n",
       "      <td>0.051176</td>\n",
       "      <td>StackingRegressor(cv='prefit',\\n              ...</td>\n",
       "      <td>DT.GR.NPHI.SW.RACEHM_LOG</td>\n",
       "      <td>RHOB</td>\n",
       "    </tr>\n",
       "    <tr>\n",
       "      <th>7</th>\n",
       "      <td>Stack1(LinReg)</td>\n",
       "      <td>1.000000</td>\n",
       "      <td>0.794791</td>\n",
       "      <td>1.718859e-16</td>\n",
       "      <td>0.052470</td>\n",
       "      <td>StackingRegressor(cv='prefit',\\n              ...</td>\n",
       "      <td>DT.GR.NPHI.SW.RACEHM_LOG</td>\n",
       "      <td>RHOB</td>\n",
       "    </tr>\n",
       "    <tr>\n",
       "      <th>8</th>\n",
       "      <td>Stack2(PolyReg)</td>\n",
       "      <td>1.000000</td>\n",
       "      <td>0.794791</td>\n",
       "      <td>1.718859e-16</td>\n",
       "      <td>0.052470</td>\n",
       "      <td>StackingRegressor(cv='prefit',\\n              ...</td>\n",
       "      <td>DT.GR.NPHI.SW.RACEHM_LOG</td>\n",
       "      <td>RHOB</td>\n",
       "    </tr>\n",
       "    <tr>\n",
       "      <th>9</th>\n",
       "      <td>Stack1(PolyReg)</td>\n",
       "      <td>1.000000</td>\n",
       "      <td>0.794791</td>\n",
       "      <td>1.424281e-16</td>\n",
       "      <td>0.052470</td>\n",
       "      <td>StackingRegressor(cv='prefit',\\n              ...</td>\n",
       "      <td>DT.GR.NPHI.SW.RACEHM_LOG</td>\n",
       "      <td>RHOB</td>\n",
       "    </tr>\n",
       "    <tr>\n",
       "      <th>10</th>\n",
       "      <td>Stack2(LinReg)</td>\n",
       "      <td>1.000000</td>\n",
       "      <td>0.794791</td>\n",
       "      <td>1.424281e-16</td>\n",
       "      <td>0.052470</td>\n",
       "      <td>StackingRegressor(cv='prefit',\\n              ...</td>\n",
       "      <td>DT.GR.NPHI.SW.RACEHM_LOG</td>\n",
       "      <td>RHOB</td>\n",
       "    </tr>\n",
       "    <tr>\n",
       "      <th>11</th>\n",
       "      <td>KNN</td>\n",
       "      <td>1.000000</td>\n",
       "      <td>0.794791</td>\n",
       "      <td>0.000000e+00</td>\n",
       "      <td>0.052470</td>\n",
       "      <td>RandomizedSearchCV(cv=RepeatedKFold(n_repeats=...</td>\n",
       "      <td>DT.GR.NPHI.SW.RACEHM_LOG</td>\n",
       "      <td>RHOB</td>\n",
       "    </tr>\n",
       "    <tr>\n",
       "      <th>12</th>\n",
       "      <td>Stack2(RandomForest)</td>\n",
       "      <td>0.999794</td>\n",
       "      <td>0.794639</td>\n",
       "      <td>8.221968e-04</td>\n",
       "      <td>0.052439</td>\n",
       "      <td>StackingRegressor(cv='prefit',\\n              ...</td>\n",
       "      <td>DT.GR.NPHI.SW.RACEHM_LOG</td>\n",
       "      <td>RHOB</td>\n",
       "    </tr>\n",
       "    <tr>\n",
       "      <th>13</th>\n",
       "      <td>Stack1(GradientBoosting)</td>\n",
       "      <td>0.999299</td>\n",
       "      <td>0.794365</td>\n",
       "      <td>2.316939e-03</td>\n",
       "      <td>0.052480</td>\n",
       "      <td>StackingRegressor(cv='prefit',\\n              ...</td>\n",
       "      <td>DT.GR.NPHI.SW.RACEHM_LOG</td>\n",
       "      <td>RHOB</td>\n",
       "    </tr>\n",
       "    <tr>\n",
       "      <th>14</th>\n",
       "      <td>Stack2(DecisionTree)</td>\n",
       "      <td>0.997567</td>\n",
       "      <td>0.793963</td>\n",
       "      <td>2.511456e-03</td>\n",
       "      <td>0.052389</td>\n",
       "      <td>StackingRegressor(cv='prefit',\\n              ...</td>\n",
       "      <td>DT.GR.NPHI.SW.RACEHM_LOG</td>\n",
       "      <td>RHOB</td>\n",
       "    </tr>\n",
       "    <tr>\n",
       "      <th>15</th>\n",
       "      <td>Stack1(MLP)</td>\n",
       "      <td>0.999933</td>\n",
       "      <td>0.791943</td>\n",
       "      <td>1.071609e-03</td>\n",
       "      <td>0.052995</td>\n",
       "      <td>StackingRegressor(cv='prefit',\\n              ...</td>\n",
       "      <td>DT.GR.NPHI.SW.RACEHM_LOG</td>\n",
       "      <td>RHOB</td>\n",
       "    </tr>\n",
       "    <tr>\n",
       "      <th>16</th>\n",
       "      <td>Stack2(GradientBoosting)</td>\n",
       "      <td>0.999165</td>\n",
       "      <td>0.791403</td>\n",
       "      <td>2.391259e-03</td>\n",
       "      <td>0.052834</td>\n",
       "      <td>StackingRegressor(cv='prefit',\\n              ...</td>\n",
       "      <td>DT.GR.NPHI.SW.RACEHM_LOG</td>\n",
       "      <td>RHOB</td>\n",
       "    </tr>\n",
       "    <tr>\n",
       "      <th>17</th>\n",
       "      <td>Stack1(DecisionTree)</td>\n",
       "      <td>0.997223</td>\n",
       "      <td>0.791021</td>\n",
       "      <td>3.648866e-03</td>\n",
       "      <td>0.053378</td>\n",
       "      <td>StackingRegressor(cv='prefit',\\n              ...</td>\n",
       "      <td>DT.GR.NPHI.SW.RACEHM_LOG</td>\n",
       "      <td>RHOB</td>\n",
       "    </tr>\n",
       "    <tr>\n",
       "      <th>18</th>\n",
       "      <td>Stack2(MLP)</td>\n",
       "      <td>0.999799</td>\n",
       "      <td>0.790192</td>\n",
       "      <td>1.821307e-03</td>\n",
       "      <td>0.053475</td>\n",
       "      <td>StackingRegressor(cv='prefit',\\n              ...</td>\n",
       "      <td>DT.GR.NPHI.SW.RACEHM_LOG</td>\n",
       "      <td>RHOB</td>\n",
       "    </tr>\n",
       "    <tr>\n",
       "      <th>19</th>\n",
       "      <td>XGBoost</td>\n",
       "      <td>0.974254</td>\n",
       "      <td>0.778066</td>\n",
       "      <td>2.145390e-02</td>\n",
       "      <td>0.049544</td>\n",
       "      <td>RandomizedSearchCV(cv=RepeatedKFold(n_repeats=...</td>\n",
       "      <td>DT.GR.NPHI.SW.RACEHM_LOG</td>\n",
       "      <td>RHOB</td>\n",
       "    </tr>\n",
       "    <tr>\n",
       "      <th>20</th>\n",
       "      <td>GradientBoosting</td>\n",
       "      <td>0.988800</td>\n",
       "      <td>0.760834</td>\n",
       "      <td>1.356200e-02</td>\n",
       "      <td>0.053986</td>\n",
       "      <td>RandomizedSearchCV(cv=RepeatedKFold(n_repeats=...</td>\n",
       "      <td>DT.GR.NPHI.SW.RACEHM_LOG</td>\n",
       "      <td>RHOB</td>\n",
       "    </tr>\n",
       "    <tr>\n",
       "      <th>21</th>\n",
       "      <td>Stack2(KNN)</td>\n",
       "      <td>1.000000</td>\n",
       "      <td>0.760434</td>\n",
       "      <td>0.000000e+00</td>\n",
       "      <td>0.055078</td>\n",
       "      <td>StackingRegressor(cv='prefit',\\n              ...</td>\n",
       "      <td>DT.GR.NPHI.SW.RACEHM_LOG</td>\n",
       "      <td>RHOB</td>\n",
       "    </tr>\n",
       "    <tr>\n",
       "      <th>22</th>\n",
       "      <td>Stack2(SVM)</td>\n",
       "      <td>0.966413</td>\n",
       "      <td>0.757198</td>\n",
       "      <td>2.674457e-02</td>\n",
       "      <td>0.057614</td>\n",
       "      <td>StackingRegressor(cv='prefit',\\n              ...</td>\n",
       "      <td>DT.GR.NPHI.SW.RACEHM_LOG</td>\n",
       "      <td>RHOB</td>\n",
       "    </tr>\n",
       "    <tr>\n",
       "      <th>23</th>\n",
       "      <td>LinReg</td>\n",
       "      <td>0.836330</td>\n",
       "      <td>0.739660</td>\n",
       "      <td>5.094979e-02</td>\n",
       "      <td>0.056107</td>\n",
       "      <td>RandomizedSearchCV(cv=RepeatedKFold(n_repeats=...</td>\n",
       "      <td>DT.GR.NPHI.SW.RACEHM_LOG</td>\n",
       "      <td>RHOB</td>\n",
       "    </tr>\n",
       "    <tr>\n",
       "      <th>24</th>\n",
       "      <td>RandomForest</td>\n",
       "      <td>0.975829</td>\n",
       "      <td>0.736613</td>\n",
       "      <td>2.038816e-02</td>\n",
       "      <td>0.054908</td>\n",
       "      <td>RandomizedSearchCV(cv=RepeatedKFold(n_repeats=...</td>\n",
       "      <td>DT.GR.NPHI.SW.RACEHM_LOG</td>\n",
       "      <td>RHOB</td>\n",
       "    </tr>\n",
       "    <tr>\n",
       "      <th>25</th>\n",
       "      <td>BaggingRegressor</td>\n",
       "      <td>0.982217</td>\n",
       "      <td>0.709820</td>\n",
       "      <td>1.674672e-02</td>\n",
       "      <td>0.059728</td>\n",
       "      <td>RandomizedSearchCV(cv=RepeatedKFold(n_repeats=...</td>\n",
       "      <td>DT.GR.NPHI.SW.RACEHM_LOG</td>\n",
       "      <td>RHOB</td>\n",
       "    </tr>\n",
       "    <tr>\n",
       "      <th>26</th>\n",
       "      <td>AdaBoostRegressor</td>\n",
       "      <td>0.889069</td>\n",
       "      <td>0.643324</td>\n",
       "      <td>5.140193e-02</td>\n",
       "      <td>0.071803</td>\n",
       "      <td>RandomizedSearchCV(cv=RepeatedKFold(n_repeats=...</td>\n",
       "      <td>DT.GR.NPHI.SW.RACEHM_LOG</td>\n",
       "      <td>RHOB</td>\n",
       "    </tr>\n",
       "    <tr>\n",
       "      <th>27</th>\n",
       "      <td>DecisionTree</td>\n",
       "      <td>0.960471</td>\n",
       "      <td>0.554287</td>\n",
       "      <td>2.637123e-02</td>\n",
       "      <td>0.065496</td>\n",
       "      <td>RandomizedSearchCV(cv=RepeatedKFold(n_repeats=...</td>\n",
       "      <td>DT.GR.NPHI.SW.RACEHM_LOG</td>\n",
       "      <td>RHOB</td>\n",
       "    </tr>\n",
       "  </tbody>\n",
       "</table>\n",
       "</div>"
      ],
      "text/plain": [
       "                       MODEL     R2_TR     R2_TE        MAE_TR    MAE_TE  \\\n",
       "0                    PolyReg  0.909091  0.833406  4.020307e-02  0.041501   \n",
       "1                Stack1(SVM)  0.965039  0.809308  2.702566e-02  0.048500   \n",
       "2                        MLP  0.925120  0.806355  3.754591e-02  0.049087   \n",
       "3                        SVM  0.883563  0.799980  5.143841e-02  0.047569   \n",
       "4                 ExtraTrees  0.950228  0.798039  2.960644e-02  0.049713   \n",
       "5       Stack1(RandomForest)  0.999744  0.796453  1.110088e-03  0.052149   \n",
       "6                Stack1(KNN)  1.000000  0.795971  0.000000e+00  0.051176   \n",
       "7             Stack1(LinReg)  1.000000  0.794791  1.718859e-16  0.052470   \n",
       "8            Stack2(PolyReg)  1.000000  0.794791  1.718859e-16  0.052470   \n",
       "9            Stack1(PolyReg)  1.000000  0.794791  1.424281e-16  0.052470   \n",
       "10            Stack2(LinReg)  1.000000  0.794791  1.424281e-16  0.052470   \n",
       "11                       KNN  1.000000  0.794791  0.000000e+00  0.052470   \n",
       "12      Stack2(RandomForest)  0.999794  0.794639  8.221968e-04  0.052439   \n",
       "13  Stack1(GradientBoosting)  0.999299  0.794365  2.316939e-03  0.052480   \n",
       "14      Stack2(DecisionTree)  0.997567  0.793963  2.511456e-03  0.052389   \n",
       "15               Stack1(MLP)  0.999933  0.791943  1.071609e-03  0.052995   \n",
       "16  Stack2(GradientBoosting)  0.999165  0.791403  2.391259e-03  0.052834   \n",
       "17      Stack1(DecisionTree)  0.997223  0.791021  3.648866e-03  0.053378   \n",
       "18               Stack2(MLP)  0.999799  0.790192  1.821307e-03  0.053475   \n",
       "19                   XGBoost  0.974254  0.778066  2.145390e-02  0.049544   \n",
       "20          GradientBoosting  0.988800  0.760834  1.356200e-02  0.053986   \n",
       "21               Stack2(KNN)  1.000000  0.760434  0.000000e+00  0.055078   \n",
       "22               Stack2(SVM)  0.966413  0.757198  2.674457e-02  0.057614   \n",
       "23                    LinReg  0.836330  0.739660  5.094979e-02  0.056107   \n",
       "24              RandomForest  0.975829  0.736613  2.038816e-02  0.054908   \n",
       "25          BaggingRegressor  0.982217  0.709820  1.674672e-02  0.059728   \n",
       "26         AdaBoostRegressor  0.889069  0.643324  5.140193e-02  0.071803   \n",
       "27              DecisionTree  0.960471  0.554287  2.637123e-02  0.065496   \n",
       "\n",
       "                                            MODEL_OBJ  \\\n",
       "0   RandomizedSearchCV(cv=RepeatedKFold(n_repeats=...   \n",
       "1   StackingRegressor(cv='prefit',\\n              ...   \n",
       "2   RandomizedSearchCV(cv=RepeatedKFold(n_repeats=...   \n",
       "3   RandomizedSearchCV(cv=RepeatedKFold(n_repeats=...   \n",
       "4   RandomizedSearchCV(cv=RepeatedKFold(n_repeats=...   \n",
       "5   StackingRegressor(cv='prefit',\\n              ...   \n",
       "6   StackingRegressor(cv='prefit',\\n              ...   \n",
       "7   StackingRegressor(cv='prefit',\\n              ...   \n",
       "8   StackingRegressor(cv='prefit',\\n              ...   \n",
       "9   StackingRegressor(cv='prefit',\\n              ...   \n",
       "10  StackingRegressor(cv='prefit',\\n              ...   \n",
       "11  RandomizedSearchCV(cv=RepeatedKFold(n_repeats=...   \n",
       "12  StackingRegressor(cv='prefit',\\n              ...   \n",
       "13  StackingRegressor(cv='prefit',\\n              ...   \n",
       "14  StackingRegressor(cv='prefit',\\n              ...   \n",
       "15  StackingRegressor(cv='prefit',\\n              ...   \n",
       "16  StackingRegressor(cv='prefit',\\n              ...   \n",
       "17  StackingRegressor(cv='prefit',\\n              ...   \n",
       "18  StackingRegressor(cv='prefit',\\n              ...   \n",
       "19  RandomizedSearchCV(cv=RepeatedKFold(n_repeats=...   \n",
       "20  RandomizedSearchCV(cv=RepeatedKFold(n_repeats=...   \n",
       "21  StackingRegressor(cv='prefit',\\n              ...   \n",
       "22  StackingRegressor(cv='prefit',\\n              ...   \n",
       "23  RandomizedSearchCV(cv=RepeatedKFold(n_repeats=...   \n",
       "24  RandomizedSearchCV(cv=RepeatedKFold(n_repeats=...   \n",
       "25  RandomizedSearchCV(cv=RepeatedKFold(n_repeats=...   \n",
       "26  RandomizedSearchCV(cv=RepeatedKFold(n_repeats=...   \n",
       "27  RandomizedSearchCV(cv=RepeatedKFold(n_repeats=...   \n",
       "\n",
       "                          IN   OUT  \n",
       "0   DT.GR.NPHI.SW.RACEHM_LOG  RHOB  \n",
       "1   DT.GR.NPHI.SW.RACEHM_LOG  RHOB  \n",
       "2   DT.GR.NPHI.SW.RACEHM_LOG  RHOB  \n",
       "3   DT.GR.NPHI.SW.RACEHM_LOG  RHOB  \n",
       "4   DT.GR.NPHI.SW.RACEHM_LOG  RHOB  \n",
       "5   DT.GR.NPHI.SW.RACEHM_LOG  RHOB  \n",
       "6   DT.GR.NPHI.SW.RACEHM_LOG  RHOB  \n",
       "7   DT.GR.NPHI.SW.RACEHM_LOG  RHOB  \n",
       "8   DT.GR.NPHI.SW.RACEHM_LOG  RHOB  \n",
       "9   DT.GR.NPHI.SW.RACEHM_LOG  RHOB  \n",
       "10  DT.GR.NPHI.SW.RACEHM_LOG  RHOB  \n",
       "11  DT.GR.NPHI.SW.RACEHM_LOG  RHOB  \n",
       "12  DT.GR.NPHI.SW.RACEHM_LOG  RHOB  \n",
       "13  DT.GR.NPHI.SW.RACEHM_LOG  RHOB  \n",
       "14  DT.GR.NPHI.SW.RACEHM_LOG  RHOB  \n",
       "15  DT.GR.NPHI.SW.RACEHM_LOG  RHOB  \n",
       "16  DT.GR.NPHI.SW.RACEHM_LOG  RHOB  \n",
       "17  DT.GR.NPHI.SW.RACEHM_LOG  RHOB  \n",
       "18  DT.GR.NPHI.SW.RACEHM_LOG  RHOB  \n",
       "19  DT.GR.NPHI.SW.RACEHM_LOG  RHOB  \n",
       "20  DT.GR.NPHI.SW.RACEHM_LOG  RHOB  \n",
       "21  DT.GR.NPHI.SW.RACEHM_LOG  RHOB  \n",
       "22  DT.GR.NPHI.SW.RACEHM_LOG  RHOB  \n",
       "23  DT.GR.NPHI.SW.RACEHM_LOG  RHOB  \n",
       "24  DT.GR.NPHI.SW.RACEHM_LOG  RHOB  \n",
       "25  DT.GR.NPHI.SW.RACEHM_LOG  RHOB  \n",
       "26  DT.GR.NPHI.SW.RACEHM_LOG  RHOB  \n",
       "27  DT.GR.NPHI.SW.RACEHM_LOG  RHOB  "
      ]
     },
     "execution_count": 25,
     "metadata": {},
     "output_type": "execute_result"
    }
   ],
   "source": [
    "df_results = pd.DataFrame(res_dict)\n",
    "df_results = df_results.sort_values('R2_TE', ascending=False).reset_index(drop=True)\n",
    "df_results['IN'] = '.'.join(inputs)\n",
    "df_results['OUT'] = output[0]\n",
    "df_results"
   ]
  },
  {
   "cell_type": "code",
   "execution_count": 28,
   "id": "9b959a66",
   "metadata": {},
   "outputs": [
    {
     "data": {
      "text/plain": [
       "(0.5, 1.0)"
      ]
     },
     "execution_count": 28,
     "metadata": {},
     "output_type": "execute_result"
    },
    {
     "data": {
      "image/png": "[encoded data removed]",
      "text/plain": [
       "<Figure size 600x600 with 1 Axes>"
      ]
     },
     "metadata": {},
     "output_type": "display_data"
    }
   ],
   "source": [
    "lim = (0.5, 1)\n",
    "fsize = (6, 6)\n",
    "\n",
    "plt.figure(figsize=fsize)\n",
    "sns.scatterplot(data=df_results, y='R2_TE', x='R2_TR', hue='MODEL', s=100, palette='tab10')\n",
    "plt.plot([0,1],[0,1], 'r--')\n",
    "plt.xlim(lim)\n",
    "plt.ylim(lim)"
   ]
  },
  {
   "cell_type": "code",
   "execution_count": 29,
   "id": "46ced99e",
   "metadata": {},
   "outputs": [],
   "source": [
    "best_model = df_results.loc[0,'MODEL']\n",
    "y_hat = df_results.loc[0,'MODEL_OBJ'].predict(X_te)"
   ]
  },
  {
   "cell_type": "code",
   "execution_count": 30,
   "id": "2b4607ba",
   "metadata": {},
   "outputs": [
    {
     "name": "stderr",
     "output_type": "stream",
     "text": [
      "<>:8: SyntaxWarning: invalid escape sequence '\\h'\n",
      "<>:8: SyntaxWarning: invalid escape sequence '\\h'\n",
      "C:\\Users\\bewm\\AppData\\Local\\Temp\\ipykernel_10356\\1924508819.py:8: SyntaxWarning: invalid escape sequence '\\h'\n",
      "  plt.legend(['$y$ - observed','$\\hat{y}$ - predictions'])\n"
     ]
    },
    {
     "data": {
      "image/png": "[encoded data removed]",
      "text/plain": [
       "<Figure size 600x900 with 1 Axes>"
      ]
     },
     "metadata": {},
     "output_type": "display_data"
    }
   ],
   "source": [
    "plt.figure(figsize=(6,9))\n",
    "plt.plot(y_te,test_df['MD'],'ro')\n",
    "plt.plot(y_hat,test_df['MD'], 'k', lw=2)\n",
    "plt.gca().invert_yaxis()\n",
    "plt.title(f'{best_model} prediction for {output[0]}, $R^2$:{r2_score(y_te, y_hat):.3f}')\n",
    "plt.xlabel(f'Normalized {output[0]}')\n",
    "plt.ylabel('Depth[m]')\n",
    "plt.legend(['$y$ - observed','$\\hat{y}$ - predictions'])\n",
    "plt.grid()\n"
   ]
  },
  {
   "cell_type": "code",
   "execution_count": 31,
   "id": "7bcb8cc1",
   "metadata": {},
   "outputs": [
    {
     "name": "stderr",
     "output_type": "stream",
     "text": [
      "<>:6: SyntaxWarning: invalid escape sequence '\\h'\n",
      "<>:12: SyntaxWarning: invalid escape sequence '\\h'\n",
      "<>:6: SyntaxWarning: invalid escape sequence '\\h'\n",
      "<>:12: SyntaxWarning: invalid escape sequence '\\h'\n",
      "C:\\Users\\bewm\\AppData\\Local\\Temp\\ipykernel_10356\\1485863182.py:6: SyntaxWarning: invalid escape sequence '\\h'\n",
      "  plt.plot(lim, lim, 'r--', label='$\\hat{y}=y$');\n",
      "C:\\Users\\bewm\\AppData\\Local\\Temp\\ipykernel_10356\\1485863182.py:12: SyntaxWarning: invalid escape sequence '\\h'\n",
      "  plt.ylabel('$\\hat{y}$ - predictions')\n"
     ]
    },
    {
     "data": {
      "image/png": "[encoded data removed]",
      "text/plain": [
       "<Figure size 500x500 with 1 Axes>"
      ]
     },
     "metadata": {},
     "output_type": "display_data"
    }
   ],
   "source": [
    "fig = plt.figure(figsize=(5,5))\n",
    "lim =(0,1)\n",
    "\n",
    "sns.scatterplot(x=y_te.ravel(), y=y_hat.ravel(), s=50, color='.3');\n",
    "\n",
    "plt.plot(lim, lim, 'r--', label='$\\hat{y}=y$');\n",
    "plt.xlim(lim)\n",
    "plt.ylim(lim)\n",
    "\n",
    "plt.xlabel('$y$ - observed')\n",
    "\n",
    "plt.ylabel('$\\hat{y}$ - predictions')\n",
    "plt.legend(loc='upper left')\n",
    "\n",
    "plt.title(f\"Observed x Predictions \\n {df_results.loc[0,'MODEL']}: R²:{df_results.loc[0,'R2_TE']:.3f}\")\n",
    "\n",
    "# p = os.path.join(os.getcwd(), 'outputs', 'images_ensembles', '7_crossplot_y_yhat.eps')\n",
    "# fig.savefig(p, format='eps')\n",
    "pass;"
   ]
  },
  {
   "cell_type": "code",
   "execution_count": 32,
   "id": "5e76c5ff",
   "metadata": {},
   "outputs": [
    {
     "name": "stdout",
     "output_type": "stream",
     "text": [
      "c:\\Users\\bewm\\2_Projetos\\Mestrado\\SYSID_well_logs\\Outputs\\REG_RHOB_FILT.pkl\n"
     ]
    }
   ],
   "source": [
    "prefix = 'REG_RHOB_FILT'\n",
    "binary = os.path.join(os.getcwd(), 'Outputs', f'{prefix}.pkl')\n",
    "print(binary)\n",
    "\n",
    "with open(binary, 'wb') as bin_file:\n",
    "    pickle.dump(df_results, bin_file)\n"
   ]
  },
  {
   "cell_type": "markdown",
   "id": "338a9cd2",
   "metadata": {},
   "source": [
    "#### Estudos dos parametros e tempos de treinamento e param"
   ]
  },
  {
   "cell_type": "code",
   "execution_count": 33,
   "id": "4f9460a5",
   "metadata": {},
   "outputs": [
    {
     "name": "stdout",
     "output_type": "stream",
     "text": [
      "Pipeline {'memory': None, 'steps': [('Poly', PolynomialFeatures()), ('Reg', LinearRegression())], 'verbose': False, 'Poly': PolynomialFeatures(), 'Reg': LinearRegression(), 'Poly__degree': 2, 'Poly__include_bias': True, 'Poly__interaction_only': False, 'Poly__order': 'C', 'Reg__copy_X': True, 'Reg__fit_intercept': True, 'Reg__n_jobs': None, 'Reg__positive': False}\n"
     ]
    },
    {
     "ename": "AttributeError",
     "evalue": "'StackingRegressor' object has no attribute 'best_estimator_'",
     "output_type": "error",
     "traceback": [
      "\u001b[1;31m---------------------------------------------------------------------------\u001b[0m",
      "\u001b[1;31mAttributeError\u001b[0m                            Traceback (most recent call last)",
      "Cell \u001b[1;32mIn[33], line 2\u001b[0m\n\u001b[0;32m      1\u001b[0m \u001b[38;5;28;01mfor\u001b[39;00m i,m \u001b[38;5;129;01min\u001b[39;00m \u001b[38;5;28menumerate\u001b[39m(df_results[\u001b[38;5;124m'\u001b[39m\u001b[38;5;124mMODEL_OBJ\u001b[39m\u001b[38;5;124m'\u001b[39m]):\n\u001b[1;32m----> 2\u001b[0m     dfp \u001b[38;5;241m=\u001b[39m \u001b[43mm\u001b[49m\u001b[38;5;241;43m.\u001b[39;49m\u001b[43mbest_estimator_\u001b[49m\u001b[38;5;241m.\u001b[39mget_params()\n\u001b[0;32m      3\u001b[0m     \u001b[38;5;28mprint\u001b[39m (m\u001b[38;5;241m.\u001b[39mbest_estimator_\u001b[38;5;241m.\u001b[39m\u001b[38;5;18m__class__\u001b[39m\u001b[38;5;241m.\u001b[39m\u001b[38;5;18m__name__\u001b[39m, dfp)\n",
      "\u001b[1;31mAttributeError\u001b[0m: 'StackingRegressor' object has no attribute 'best_estimator_'"
     ]
    }
   ],
   "source": [
    "for i,m in enumerate(df_results['MODEL_OBJ']):\n",
    "    dfp = m.best_estimator_.get_params()\n",
    "    print (m.best_estimator_.__class__.__name__, dfp)"
   ]
  },
  {
   "cell_type": "code",
   "execution_count": 34,
   "id": "2068eef5",
   "metadata": {},
   "outputs": [
    {
     "name": "stdout",
     "output_type": "stream",
     "text": [
      "Pipeline: 2 ms\n"
     ]
    },
    {
     "ename": "AttributeError",
     "evalue": "'StackingRegressor' object has no attribute 'cv_results_'",
     "output_type": "error",
     "traceback": [
      "\u001b[1;31m---------------------------------------------------------------------------\u001b[0m",
      "\u001b[1;31mAttributeError\u001b[0m                            Traceback (most recent call last)",
      "Cell \u001b[1;32mIn[34], line 2\u001b[0m\n\u001b[0;32m      1\u001b[0m \u001b[38;5;28;01mfor\u001b[39;00m i,m \u001b[38;5;129;01min\u001b[39;00m \u001b[38;5;28menumerate\u001b[39m(df_results[\u001b[38;5;124m'\u001b[39m\u001b[38;5;124mMODEL_OBJ\u001b[39m\u001b[38;5;124m'\u001b[39m]):\n\u001b[1;32m----> 2\u001b[0m     estim_cvr \u001b[38;5;241m=\u001b[39m \u001b[43mm\u001b[49m\u001b[38;5;241;43m.\u001b[39;49m\u001b[43mcv_results_\u001b[49m\n\u001b[0;32m      3\u001b[0m     \u001b[38;5;28mprint\u001b[39m (\u001b[38;5;124mf\u001b[39m\u001b[38;5;124m\"\u001b[39m\u001b[38;5;132;01m{\u001b[39;00mm\u001b[38;5;241m.\u001b[39mbest_estimator_\u001b[38;5;241m.\u001b[39m\u001b[38;5;18m__class__\u001b[39m\u001b[38;5;241m.\u001b[39m\u001b[38;5;18m__name__\u001b[39m\u001b[38;5;132;01m}\u001b[39;00m\u001b[38;5;124m:\u001b[39m\u001b[38;5;124m\"\u001b[39m, \u001b[38;5;124mf\u001b[39m\u001b[38;5;124m\"\u001b[39m\u001b[38;5;132;01m{\u001b[39;00mnp\u001b[38;5;241m.\u001b[39mmean(estim_cvr[\u001b[38;5;124m'\u001b[39m\u001b[38;5;124mmean_fit_time\u001b[39m\u001b[38;5;124m'\u001b[39m])\u001b[38;5;241m*\u001b[39m\u001b[38;5;241m1000\u001b[39m\u001b[38;5;132;01m:\u001b[39;00m\u001b[38;5;124m.0f\u001b[39m\u001b[38;5;132;01m}\u001b[39;00m\u001b[38;5;124m ms\u001b[39m\u001b[38;5;124m\"\u001b[39m)\n\u001b[0;32m      5\u001b[0m \u001b[38;5;66;03m# for i,m in enumerate(df_rank['MODEL_OBJ']):\u001b[39;00m\n\u001b[0;32m      6\u001b[0m \u001b[38;5;66;03m# if m.estimator.cv == 'prefit': #stack\u001b[39;00m\n\u001b[0;32m      7\u001b[0m \u001b[38;5;66;03m#     print (m.estimator.final_estimator_.best_estimator_)\u001b[39;00m\n\u001b[0;32m      8\u001b[0m \u001b[38;5;66;03m# else: #no stack\u001b[39;00m\n\u001b[0;32m      9\u001b[0m \u001b[38;5;66;03m#     print (m.estimator.best_estimator_)\u001b[39;00m\n",
      "\u001b[1;31mAttributeError\u001b[0m: 'StackingRegressor' object has no attribute 'cv_results_'"
     ]
    }
   ],
   "source": [
    "for i,m in enumerate(df_results['MODEL_OBJ']):\n",
    "    estim_cvr = m.cv_results_\n",
    "    print (f\"{m.best_estimator_.__class__.__name__}:\", f\"{np.mean(estim_cvr['mean_fit_time'])*1000:.0f} ms\")\n",
    "\n",
    "# for i,m in enumerate(df_rank['MODEL_OBJ']):\n",
    "# if m.estimator.cv == 'prefit': #stack\n",
    "#     print (m.estimator.final_estimator_.best_estimator_)\n",
    "# else: #no stack\n",
    "#     print (m.estimator.best_estimator_)"
   ]
  },
  {
   "cell_type": "code",
   "execution_count": null,
   "id": "a65a639d",
   "metadata": {},
   "outputs": [],
   "source": []
  }
 ],
 "metadata": {
  "kernelspec": {
   "display_name": "Python 3.10.0 ('control')",
   "language": "python",
   "name": "python3"
  },
  "language_info": {
   "codemirror_mode": {
    "name": "ipython",
    "version": 3
   },
   "file_extension": ".py",
   "mimetype": "text/x-python",
   "name": "python",
   "nbconvert_exporter": "python",
   "pygments_lexer": "ipython3",
   "version": "3.12.0"
  },
  "vscode": {
   "interpreter": {
    "hash": "33f270a2ca47397b46974cef3528e98ccade154a5094b511d44fad4d3933988e"
   }
  }
 },
 "nbformat": 4,
 "nbformat_minor": 5
}
